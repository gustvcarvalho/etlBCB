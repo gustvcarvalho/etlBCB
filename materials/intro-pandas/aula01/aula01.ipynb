{
 "cells": [
  {
   "cell_type": "markdown",
   "metadata": {},
   "source": [
    "Complete essa primeira célula com o seu nome e turma.\n",
    "\n",
    "Nome: Gustavo Carvalho\n",
    "\n",
    "Turma: TADS034"
   ]
  },
  {
   "cell_type": "markdown",
   "metadata": {},
   "source": [
    "O conceito de variáveis em Python é fundamental para quem está começando a aprender a linguagem. Vamos detalhar um pouco mais sobre como as variáveis funcionam em Python, destacando a natureza orientada a objetos da linguagem e o conceito de referência.\n",
    "\n",
    "### Tudo é Objeto\n",
    "Em Python, tudo é objeto. Isso significa que tipos de dados simples, como números e strings, bem como estruturas de dados mais complexas, são tratados como objetos. Cada objeto em Python é uma instância de algum tipo ou classe. Esses objetos possuem identidade (um endereço único na memória), tipo (que define as operações que o objeto suporta) e valor.\n",
    "\n",
    "### Variáveis como Referências\n",
    "Quando você cria uma variável em Python e atribui um valor a ela, o que você está realmente fazendo é criando uma referência a um objeto. As variáveis em Python são como etiquetas que você cola em objetos para identificá-los. Isso é diferente de linguagens de programação de baixo nível, onde uma variável armazena diretamente o valor."
   ]
  },
  {
   "cell_type": "code",
   "execution_count": 12,
   "metadata": {},
   "outputs": [
    {
     "name": "stdout",
     "output_type": "stream",
     "text": [
      "x vale  1\n",
      "y vale  0.1234\n",
      "A soma deles é:  1.1234\n"
     ]
    }
   ],
   "source": [
    "x = 1\n",
    "y = 0.1234\n",
    "\n",
    "print(\"x vale \",x)\n",
    "print(\"y vale \",y)\n",
    "print(\"A soma deles é: \", x + y)"
   ]
  },
  {
   "cell_type": "markdown",
   "metadata": {},
   "source": [
    "### Tipagem Dinâmica:\n",
    "\n",
    "Em Python, não é necessário declarar o tipo de uma variável quando ela é criada. O interpretador Python automaticamente detecta o tipo de dado da variável com base no valor que lhe é atribuído. Isso é conhecido como tipagem dinâmica."
   ]
  },
  {
   "cell_type": "code",
   "execution_count": 13,
   "metadata": {},
   "outputs": [
    {
     "name": "stdout",
     "output_type": "stream",
     "text": [
      "x é uma variável do tipo:  <class 'str'>\n",
      "y é uma variável do tipo:  <class 'float'>\n"
     ]
    }
   ],
   "source": [
    "x = \"Gustavo\"\n",
    "y = 15.8\n",
    "print(\"x é uma variável do tipo: \", type(x))\n",
    "print(\"y é uma variável do tipo: \", type(y))"
   ]
  },
  {
   "cell_type": "code",
   "execution_count": 14,
   "metadata": {},
   "outputs": [
    {
     "name": "stdout",
     "output_type": "stream",
     "text": [
      "Data Science\n"
     ]
    }
   ],
   "source": [
    "x = \"Data \"\n",
    "y = \"Science\"\n",
    "print(x + y)"
   ]
  },
  {
   "cell_type": "markdown",
   "metadata": {},
   "source": [
    "Perceba que trocamos o tipo de variável sem nenhum prejuízo.\n",
    "\n",
    "#### Vantagens:\n",
    "\n",
    "- Flexibilidade: Os programadores podem escrever código mais rápido e com menos linhas, uma vez que não é necessário declarar tipos de dados explicitamente.\n",
    "- Facilidade de Uso: A tipagem dinâmica torna Python uma linguagem muito acessível para iniciantes, pois eles podem começar a programar sem a necessidade de entender sistemas de tipos complexos.\n",
    "- Código mais legível e limpo: Ao eliminar a necessidade de declarações de tipo explícitas, o código tende a ser mais conciso e focado na lógica do programa em vez da gestão de tipos.\n",
    "\n",
    "#### Desvantagens:\n",
    "\n",
    "- Erros em Tempo de Execução: Erros relacionados a tipos de dados podem não ser detectados até o programa ser executado. Isso pode levar a bugs que são mais difíceis de rastrear e corrigir.\n",
    "- Desempenho: A verificação de tipos em tempo de execução pode tornar a execução do programa mais lenta em comparação com linguagens estaticamente tipadas, onde a compatibilidade de tipos é determinada em tempo de compilação.\n",
    "\n",
    "**Atenção:** Apesar do Python ser dinamicamente tipado, isso não significa que o interpretador realiza conversões automáticas.  Por exemplo, tentar concatenar uma string e um número diretamente resultará em um erro, em vez de converter silenciosamente o número em uma string."
   ]
  },
  {
   "cell_type": "code",
   "execution_count": 15,
   "metadata": {},
   "outputs": [
    {
     "ename": "TypeError",
     "evalue": "can only concatenate str (not \"int\") to str",
     "output_type": "error",
     "traceback": [
      "\u001b[31m---------------------------------------------------------------------------\u001b[39m",
      "\u001b[31mTypeError\u001b[39m                                 Traceback (most recent call last)",
      "\u001b[36mCell\u001b[39m\u001b[36m \u001b[39m\u001b[32mIn[15]\u001b[39m\u001b[32m, line 1\u001b[39m\n\u001b[32m----> \u001b[39m\u001b[32m1\u001b[39m \u001b[43mx\u001b[49m\u001b[43m \u001b[49m\u001b[43m+\u001b[49m\u001b[43m \u001b[49m\u001b[32;43m3\u001b[39;49m\n",
      "\u001b[31mTypeError\u001b[39m: can only concatenate str (not \"int\") to str"
     ]
    }
   ],
   "source": [
    "x + 3"
   ]
  },
  {
   "cell_type": "markdown",
   "metadata": {},
   "source": [
    "## Inteiros"
   ]
  },
  {
   "cell_type": "code",
   "execution_count": 16,
   "metadata": {},
   "outputs": [
    {
     "name": "stdout",
     "output_type": "stream",
     "text": [
      "<class 'int'>\n",
      "<class 'int'>\n"
     ]
    }
   ],
   "source": [
    "x = 0x6a2f\n",
    "y = 0b111101011\n",
    "\n",
    "print(type(x))\n",
    "print(type(y))\n"
   ]
  },
  {
   "cell_type": "markdown",
   "metadata": {},
   "source": [
    "## Float"
   ]
  },
  {
   "cell_type": "code",
   "execution_count": 17,
   "metadata": {},
   "outputs": [
    {
     "name": "stdout",
     "output_type": "stream",
     "text": [
      "<class 'float'>\n"
     ]
    }
   ],
   "source": [
    "x = 15.3\n",
    "print(type(x))"
   ]
  },
  {
   "cell_type": "markdown",
   "metadata": {},
   "source": [
    "## Bool"
   ]
  },
  {
   "cell_type": "code",
   "execution_count": 18,
   "metadata": {},
   "outputs": [
    {
     "name": "stdout",
     "output_type": "stream",
     "text": [
      "<class 'bool'>\n",
      "<class 'bool'>\n"
     ]
    }
   ],
   "source": [
    "x = True\n",
    "y = False\n",
    "\n",
    "print(type(x))\n",
    "print(type(y))\n"
   ]
  },
  {
   "cell_type": "markdown",
   "metadata": {},
   "source": [
    "## None Type"
   ]
  },
  {
   "cell_type": "code",
   "execution_count": 19,
   "metadata": {},
   "outputs": [
    {
     "name": "stdout",
     "output_type": "stream",
     "text": [
      "<class 'NoneType'>\n"
     ]
    }
   ],
   "source": [
    "x = None\n",
    "print(type(x)) \n"
   ]
  },
  {
   "cell_type": "markdown",
   "metadata": {},
   "source": [
    "## String"
   ]
  },
  {
   "cell_type": "code",
   "execution_count": 20,
   "metadata": {},
   "outputs": [
    {
     "name": "stdout",
     "output_type": "stream",
     "text": [
      "<class 'str'>\n"
     ]
    }
   ],
   "source": [
    "nome = \"Gustavo\"\n",
    "print(type(nome))"
   ]
  },
  {
   "cell_type": "code",
   "execution_count": 21,
   "metadata": {},
   "outputs": [
    {
     "name": "stdout",
     "output_type": "stream",
     "text": [
      "Nome: Gustavo, Idade: 29 anos\n",
      "Meu nome comeca com a letra  G\n",
      "Meu nome em caixa alta: GUSTAVO\n",
      "Meu primeiro nome é Gustavo\n"
     ]
    }
   ],
   "source": [
    "nome = \"Gustavo\"\n",
    "idade = \"29 anos\"\n",
    "\n",
    "print (\"Nome: %s, Idade: %s\" % (nome, idade))\n",
    "print (\"Meu nome comeca com a letra \", nome[0])\n",
    "print (\"Meu nome em caixa alta:\", nome.upper())\n",
    "print (\"Meu primeiro nome é\", nome[:])"
   ]
  },
  {
   "cell_type": "markdown",
   "metadata": {},
   "source": [
    "Podemos fazer conversões para resolver os eventuais problemas com tipagem:"
   ]
  },
  {
   "cell_type": "code",
   "execution_count": 22,
   "metadata": {},
   "outputs": [
    {
     "name": "stdout",
     "output_type": "stream",
     "text": [
      "2809\n"
     ]
    }
   ],
   "source": [
    "a = float(21 / 4)\n",
    "b = int(3 * 2)\n",
    "c = int(0xa12 + 0b11101000)\n",
    "\n",
    "result = round(float(a - b + c))\n",
    "print(result)"
   ]
  }
 ],
 "metadata": {
  "kernelspec": {
   "display_name": ".venv",
   "language": "python",
   "name": "python3"
  },
  "language_info": {
   "codemirror_mode": {
    "name": "ipython",
    "version": 3
   },
   "file_extension": ".py",
   "mimetype": "text/x-python",
   "name": "python",
   "nbconvert_exporter": "python",
   "pygments_lexer": "ipython3",
   "version": "3.12.9"
  }
 },
 "nbformat": 4,
 "nbformat_minor": 2
}
