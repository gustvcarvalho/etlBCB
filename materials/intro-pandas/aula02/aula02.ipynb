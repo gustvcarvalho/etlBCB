{
 "cells": [
  {
   "cell_type": "markdown",
   "metadata": {},
   "source": [
    "# Aula 2 - Data Science"
   ]
  },
  {
   "cell_type": "code",
   "execution_count": 1,
   "metadata": {},
   "outputs": [
    {
     "name": "stdout",
     "output_type": "stream",
     "text": [
      "    ID_Escola Nome_Escola Tipo_Escola  Numero_Alunos  Orcamento_Anual\n",
      "0           0    Escola A     Publica           2917          1910635\n",
      "1           1    Escola B     Publica           2949          1884411\n",
      "2           2    Escola C  Particular           1761          1056600\n",
      "3           3    Escola D     Publica           4635          3022020\n",
      "4           4    Escola E  Particular           1468           917500\n",
      "5           5    Escola F  Particular           2283          1319574\n",
      "6           6    Escola G  Particular           1858          1081356\n",
      "7           7    Escola H     Publica           4976          3124928\n",
      "8           8    Escola I  Particular            427           248087\n",
      "9           9    Escola J  Particular            962           585858\n",
      "10         10    Escola K  Particular           1800          1049400\n",
      "11         11    Escola L     Publica           3999          2547363\n",
      "12         12    Escola M     Publica           4761          3094650\n",
      "13         13    Escola N     Publica           2739          1763916\n",
      "14         14    Escola O  Particular           1635          1043130\n"
     ]
    }
   ],
   "source": [
    "import pandas as pd\n",
    "url = \"https://drive.google.com/uc?id=1Jgto7psHaMRTAVzcFt7D6SgJiHMB7uGT\"\n",
    "escolas = pd.read_csv(url)\n",
    "\n",
    "print(escolas)\n"
   ]
  },
  {
   "cell_type": "code",
   "execution_count": 2,
   "metadata": {},
   "outputs": [
    {
     "name": "stdout",
     "output_type": "stream",
     "text": [
      "<class 'pandas.core.frame.DataFrame'>\n",
      "RangeIndex: 15 entries, 0 to 14\n",
      "Data columns (total 5 columns):\n",
      " #   Column           Non-Null Count  Dtype \n",
      "---  ------           --------------  ----- \n",
      " 0   ID_Escola        15 non-null     int64 \n",
      " 1   Nome_Escola      15 non-null     object\n",
      " 2   Tipo_Escola      15 non-null     object\n",
      " 3   Numero_Alunos    15 non-null     int64 \n",
      " 4   Orcamento_Anual  15 non-null     int64 \n",
      "dtypes: int64(3), object(2)\n",
      "memory usage: 732.0+ bytes\n"
     ]
    }
   ],
   "source": [
    "escolas.info()"
   ]
  },
  {
   "cell_type": "code",
   "execution_count": 3,
   "metadata": {},
   "outputs": [
    {
     "data": {
      "text/plain": [
       "np.int64(0)"
      ]
     },
     "execution_count": 3,
     "metadata": {},
     "output_type": "execute_result"
    }
   ],
   "source": [
    "escolas.duplicated().sum()"
   ]
  },
  {
   "cell_type": "code",
   "execution_count": 4,
   "metadata": {},
   "outputs": [
    {
     "data": {
      "application/vnd.microsoft.datawrangler.viewer.v0+json": {
       "columns": [
        {
         "name": "index",
         "rawType": "object",
         "type": "string"
        },
        {
         "name": "0",
         "rawType": "int64",
         "type": "integer"
        }
       ],
       "ref": "2427bdf8-e623-4c5c-817b-478cdace43f0",
       "rows": [
        [
         "ID_Escola",
         "0"
        ],
        [
         "Nome_Escola",
         "0"
        ],
        [
         "Tipo_Escola",
         "0"
        ],
        [
         "Numero_Alunos",
         "0"
        ],
        [
         "Orcamento_Anual",
         "0"
        ]
       ],
       "shape": {
        "columns": 1,
        "rows": 5
       }
      },
      "text/plain": [
       "ID_Escola          0\n",
       "Nome_Escola        0\n",
       "Tipo_Escola        0\n",
       "Numero_Alunos      0\n",
       "Orcamento_Anual    0\n",
       "dtype: int64"
      ]
     },
     "execution_count": 4,
     "metadata": {},
     "output_type": "execute_result"
    }
   ],
   "source": [
    "escolas.isna().sum()"
   ]
  },
  {
   "cell_type": "code",
   "execution_count": 5,
   "metadata": {},
   "outputs": [
    {
     "data": {
      "application/vnd.microsoft.datawrangler.viewer.v0+json": {
       "columns": [
        {
         "name": "index",
         "rawType": "object",
         "type": "string"
        },
        {
         "name": "0",
         "rawType": "int64",
         "type": "integer"
        }
       ],
       "ref": "6f2b47be-0729-456f-a30e-b6de6ab16bda",
       "rows": [
        [
         "ID_Escola",
         "0"
        ],
        [
         "Nome_Escola",
         "0"
        ],
        [
         "Tipo_Escola",
         "0"
        ],
        [
         "Numero_Alunos",
         "0"
        ],
        [
         "Orcamento_Anual",
         "0"
        ]
       ],
       "shape": {
        "columns": 1,
        "rows": 5
       }
      },
      "text/plain": [
       "ID_Escola          0\n",
       "Nome_Escola        0\n",
       "Tipo_Escola        0\n",
       "Numero_Alunos      0\n",
       "Orcamento_Anual    0\n",
       "dtype: int64"
      ]
     },
     "execution_count": 5,
     "metadata": {},
     "output_type": "execute_result"
    }
   ],
   "source": [
    "escolas.isnull().sum()"
   ]
  },
  {
   "cell_type": "code",
   "execution_count": 6,
   "metadata": {},
   "outputs": [
    {
     "data": {
      "text/plain": [
       "pandas.core.frame.DataFrame"
      ]
     },
     "execution_count": 6,
     "metadata": {},
     "output_type": "execute_result"
    }
   ],
   "source": [
    "type(escolas)"
   ]
  },
  {
   "cell_type": "code",
   "execution_count": 7,
   "metadata": {},
   "outputs": [
    {
     "data": {
      "application/vnd.microsoft.datawrangler.viewer.v0+json": {
       "columns": [
        {
         "name": "index",
         "rawType": "object",
         "type": "string"
        },
        {
         "name": "ID_Escola",
         "rawType": "float64",
         "type": "float"
        },
        {
         "name": "Numero_Alunos",
         "rawType": "float64",
         "type": "float"
        },
        {
         "name": "Orcamento_Anual",
         "rawType": "float64",
         "type": "float"
        }
       ],
       "ref": "894f531e-e574-4821-be32-36d48fbf15a3",
       "rows": [
        [
         "count",
         "15.0",
         "15.0",
         "15.0"
        ],
        [
         "mean",
         "7.0",
         "2611.3333333333335",
         "1643295.2"
        ],
        [
         "std",
         "4.47213595499958",
         "1420.9152818149428",
         "934776.2942755875"
        ],
        [
         "min",
         "0.0",
         "427.0",
         "248087.0"
        ],
        [
         "25%",
         "3.5",
         "1698.0",
         "1046265.0"
        ],
        [
         "50%",
         "7.0",
         "2283.0",
         "1319574.0"
        ],
        [
         "75%",
         "10.5",
         "3474.0",
         "2228999.0"
        ],
        [
         "max",
         "14.0",
         "4976.0",
         "3124928.0"
        ]
       ],
       "shape": {
        "columns": 3,
        "rows": 8
       }
      },
      "text/html": [
       "<div>\n",
       "<style scoped>\n",
       "    .dataframe tbody tr th:only-of-type {\n",
       "        vertical-align: middle;\n",
       "    }\n",
       "\n",
       "    .dataframe tbody tr th {\n",
       "        vertical-align: top;\n",
       "    }\n",
       "\n",
       "    .dataframe thead th {\n",
       "        text-align: right;\n",
       "    }\n",
       "</style>\n",
       "<table border=\"1\" class=\"dataframe\">\n",
       "  <thead>\n",
       "    <tr style=\"text-align: right;\">\n",
       "      <th></th>\n",
       "      <th>ID_Escola</th>\n",
       "      <th>Numero_Alunos</th>\n",
       "      <th>Orcamento_Anual</th>\n",
       "    </tr>\n",
       "  </thead>\n",
       "  <tbody>\n",
       "    <tr>\n",
       "      <th>count</th>\n",
       "      <td>15.00</td>\n",
       "      <td>15.00</td>\n",
       "      <td>15.00</td>\n",
       "    </tr>\n",
       "    <tr>\n",
       "      <th>mean</th>\n",
       "      <td>7.00</td>\n",
       "      <td>2611.33</td>\n",
       "      <td>1643295.20</td>\n",
       "    </tr>\n",
       "    <tr>\n",
       "      <th>std</th>\n",
       "      <td>4.47</td>\n",
       "      <td>1420.92</td>\n",
       "      <td>934776.29</td>\n",
       "    </tr>\n",
       "    <tr>\n",
       "      <th>min</th>\n",
       "      <td>0.00</td>\n",
       "      <td>427.00</td>\n",
       "      <td>248087.00</td>\n",
       "    </tr>\n",
       "    <tr>\n",
       "      <th>25%</th>\n",
       "      <td>3.50</td>\n",
       "      <td>1698.00</td>\n",
       "      <td>1046265.00</td>\n",
       "    </tr>\n",
       "    <tr>\n",
       "      <th>50%</th>\n",
       "      <td>7.00</td>\n",
       "      <td>2283.00</td>\n",
       "      <td>1319574.00</td>\n",
       "    </tr>\n",
       "    <tr>\n",
       "      <th>75%</th>\n",
       "      <td>10.50</td>\n",
       "      <td>3474.00</td>\n",
       "      <td>2228999.00</td>\n",
       "    </tr>\n",
       "    <tr>\n",
       "      <th>max</th>\n",
       "      <td>14.00</td>\n",
       "      <td>4976.00</td>\n",
       "      <td>3124928.00</td>\n",
       "    </tr>\n",
       "  </tbody>\n",
       "</table>\n",
       "</div>"
      ],
      "text/plain": [
       "       ID_Escola  Numero_Alunos  Orcamento_Anual\n",
       "count      15.00          15.00            15.00\n",
       "mean        7.00        2611.33       1643295.20\n",
       "std         4.47        1420.92        934776.29\n",
       "min         0.00         427.00        248087.00\n",
       "25%         3.50        1698.00       1046265.00\n",
       "50%         7.00        2283.00       1319574.00\n",
       "75%        10.50        3474.00       2228999.00\n",
       "max        14.00        4976.00       3124928.00"
      ]
     },
     "execution_count": 7,
     "metadata": {},
     "output_type": "execute_result"
    }
   ],
   "source": [
    "#Ajustar a configuração global parea evitar notação científica\n",
    "pd.set_option('display.float_format','{:.2f}'.format)\n",
    "\n",
    "escolas.describe()"
   ]
  },
  {
   "cell_type": "code",
   "execution_count": 8,
   "metadata": {},
   "outputs": [
    {
     "data": {
      "application/vnd.microsoft.datawrangler.viewer.v0+json": {
       "columns": [
        {
         "name": "index",
         "rawType": "object",
         "type": "string"
        },
        {
         "name": "Numero_Alunos",
         "rawType": "float64",
         "type": "float"
        },
        {
         "name": "Orcamento_Anual",
         "rawType": "float64",
         "type": "float"
        }
       ],
       "ref": "dead84da-a343-4c87-8c97-b54861fd5700",
       "rows": [
        [
         "count",
         "15.0",
         "15.0"
        ],
        [
         "mean",
         "2611.3333333333335",
         "1643295.2"
        ],
        [
         "std",
         "1420.9152818149428",
         "934776.2942755875"
        ],
        [
         "min",
         "427.0",
         "248087.0"
        ],
        [
         "25%",
         "1698.0",
         "1046265.0"
        ],
        [
         "50%",
         "2283.0",
         "1319574.0"
        ],
        [
         "75%",
         "3474.0",
         "2228999.0"
        ],
        [
         "max",
         "4976.0",
         "3124928.0"
        ]
       ],
       "shape": {
        "columns": 2,
        "rows": 8
       }
      },
      "text/html": [
       "<div>\n",
       "<style scoped>\n",
       "    .dataframe tbody tr th:only-of-type {\n",
       "        vertical-align: middle;\n",
       "    }\n",
       "\n",
       "    .dataframe tbody tr th {\n",
       "        vertical-align: top;\n",
       "    }\n",
       "\n",
       "    .dataframe thead th {\n",
       "        text-align: right;\n",
       "    }\n",
       "</style>\n",
       "<table border=\"1\" class=\"dataframe\">\n",
       "  <thead>\n",
       "    <tr style=\"text-align: right;\">\n",
       "      <th></th>\n",
       "      <th>Numero_Alunos</th>\n",
       "      <th>Orcamento_Anual</th>\n",
       "    </tr>\n",
       "  </thead>\n",
       "  <tbody>\n",
       "    <tr>\n",
       "      <th>count</th>\n",
       "      <td>15.00</td>\n",
       "      <td>15.00</td>\n",
       "    </tr>\n",
       "    <tr>\n",
       "      <th>mean</th>\n",
       "      <td>2611.33</td>\n",
       "      <td>1643295.20</td>\n",
       "    </tr>\n",
       "    <tr>\n",
       "      <th>std</th>\n",
       "      <td>1420.92</td>\n",
       "      <td>934776.29</td>\n",
       "    </tr>\n",
       "    <tr>\n",
       "      <th>min</th>\n",
       "      <td>427.00</td>\n",
       "      <td>248087.00</td>\n",
       "    </tr>\n",
       "    <tr>\n",
       "      <th>25%</th>\n",
       "      <td>1698.00</td>\n",
       "      <td>1046265.00</td>\n",
       "    </tr>\n",
       "    <tr>\n",
       "      <th>50%</th>\n",
       "      <td>2283.00</td>\n",
       "      <td>1319574.00</td>\n",
       "    </tr>\n",
       "    <tr>\n",
       "      <th>75%</th>\n",
       "      <td>3474.00</td>\n",
       "      <td>2228999.00</td>\n",
       "    </tr>\n",
       "    <tr>\n",
       "      <th>max</th>\n",
       "      <td>4976.00</td>\n",
       "      <td>3124928.00</td>\n",
       "    </tr>\n",
       "  </tbody>\n",
       "</table>\n",
       "</div>"
      ],
      "text/plain": [
       "       Numero_Alunos  Orcamento_Anual\n",
       "count          15.00            15.00\n",
       "mean         2611.33       1643295.20\n",
       "std          1420.92        934776.29\n",
       "min           427.00        248087.00\n",
       "25%          1698.00       1046265.00\n",
       "50%          2283.00       1319574.00\n",
       "75%          3474.00       2228999.00\n",
       "max          4976.00       3124928.00"
      ]
     },
     "execution_count": 8,
     "metadata": {},
     "output_type": "execute_result"
    }
   ],
   "source": [
    "quantitativas = ['Numero_Alunos', 'Orcamento_Anual']\n",
    "\n",
    "escolas[quantitativas].describe()"
   ]
  },
  {
   "cell_type": "code",
   "execution_count": 9,
   "metadata": {},
   "outputs": [
    {
     "data": {
      "application/vnd.microsoft.datawrangler.viewer.v0+json": {
       "columns": [
        {
         "name": "index",
         "rawType": "object",
         "type": "string"
        },
        {
         "name": "Nome_Escola",
         "rawType": "object",
         "type": "unknown"
        },
        {
         "name": "Tipo_Escola",
         "rawType": "object",
         "type": "unknown"
        }
       ],
       "ref": "5a84f530-a7a7-4e7a-9f0d-fdf6fc34df6b",
       "rows": [
        [
         "count",
         "15",
         "15"
        ],
        [
         "unique",
         "15",
         "2"
        ],
        [
         "top",
         "Escola A",
         "Particular"
        ],
        [
         "freq",
         "1",
         "8"
        ]
       ],
       "shape": {
        "columns": 2,
        "rows": 4
       }
      },
      "text/html": [
       "<div>\n",
       "<style scoped>\n",
       "    .dataframe tbody tr th:only-of-type {\n",
       "        vertical-align: middle;\n",
       "    }\n",
       "\n",
       "    .dataframe tbody tr th {\n",
       "        vertical-align: top;\n",
       "    }\n",
       "\n",
       "    .dataframe thead th {\n",
       "        text-align: right;\n",
       "    }\n",
       "</style>\n",
       "<table border=\"1\" class=\"dataframe\">\n",
       "  <thead>\n",
       "    <tr style=\"text-align: right;\">\n",
       "      <th></th>\n",
       "      <th>Nome_Escola</th>\n",
       "      <th>Tipo_Escola</th>\n",
       "    </tr>\n",
       "  </thead>\n",
       "  <tbody>\n",
       "    <tr>\n",
       "      <th>count</th>\n",
       "      <td>15</td>\n",
       "      <td>15</td>\n",
       "    </tr>\n",
       "    <tr>\n",
       "      <th>unique</th>\n",
       "      <td>15</td>\n",
       "      <td>2</td>\n",
       "    </tr>\n",
       "    <tr>\n",
       "      <th>top</th>\n",
       "      <td>Escola A</td>\n",
       "      <td>Particular</td>\n",
       "    </tr>\n",
       "    <tr>\n",
       "      <th>freq</th>\n",
       "      <td>1</td>\n",
       "      <td>8</td>\n",
       "    </tr>\n",
       "  </tbody>\n",
       "</table>\n",
       "</div>"
      ],
      "text/plain": [
       "       Nome_Escola Tipo_Escola\n",
       "count           15          15\n",
       "unique          15           2\n",
       "top       Escola A  Particular\n",
       "freq             1           8"
      ]
     },
     "execution_count": 9,
     "metadata": {},
     "output_type": "execute_result"
    }
   ],
   "source": [
    "qualitativas = ['Nome_Escola', 'Tipo_Escola']\n",
    "\n",
    "escolas[qualitativas].describe()"
   ]
  },
  {
   "cell_type": "code",
   "execution_count": 10,
   "metadata": {},
   "outputs": [
    {
     "name": "stdout",
     "output_type": "stream",
     "text": [
      "24649428\n"
     ]
    }
   ],
   "source": [
    "#Qual é o orçamento total de todas as escolas?#\n",
    "orc_total = escolas[\"Orcamento_Anual\"].sum()\n",
    "\n",
    "print(orc_total)\n"
   ]
  },
  {
   "cell_type": "code",
   "execution_count": 11,
   "metadata": {},
   "outputs": [
    {
     "name": "stdout",
     "output_type": "stream",
     "text": [
      "ID_Escola                 0\n",
      "Nome_Escola        Escola A\n",
      "Tipo_Escola         Publica\n",
      "Numero_Alunos          2917\n",
      "Orcamento_Anual     1910635\n",
      "Gasto_Por_Aluno      655.00\n",
      "Name: 0, dtype: object\n",
      "ID_Escola                   5\n",
      "Nome_Escola          Escola F\n",
      "Tipo_Escola        Particular\n",
      "Numero_Alunos            2283\n",
      "Orcamento_Anual       1319574\n",
      "Gasto_Por_Aluno        578.00\n",
      "Name: 5, dtype: object\n"
     ]
    }
   ],
   "source": [
    "#Qual escola tem o maior e o menor gasto per capita (gasto por aluno)?#\n",
    "escolas[\"Gasto_Por_Aluno\"] = escolas[\"Orcamento_Anual\"] / escolas[\"Numero_Alunos\"]\n",
    "esc_maior_gasto = escolas.loc[escolas[\"Gasto_Por_Aluno\"].idxmax()]\n",
    "esc_menor_gasto = escolas.loc[escolas[\"Gasto_Por_Aluno\"].idxmin()]\n",
    "\n",
    "print(esc_maior_gasto)\n",
    "\n",
    "print(esc_menor_gasto)"
   ]
  },
  {
   "cell_type": "code",
   "execution_count": 12,
   "metadata": {},
   "outputs": [
    {
     "name": "stdout",
     "output_type": "stream",
     "text": [
      "Tipo_Escola\n",
      "Particular   1524.25\n",
      "Publica      3853.71\n",
      "Name: Numero_Alunos, dtype: float64\n"
     ]
    }
   ],
   "source": [
    "#Qual é a média do número de alunos por tipo de escola (Pública vs.Particular)?#\n",
    "med_alunos = escolas.groupby(\"Tipo_Escola\")[\"Numero_Alunos\"].mean()\n",
    "\n",
    "print(med_alunos)\n"
   ]
  },
  {
   "cell_type": "code",
   "execution_count": 13,
   "metadata": {},
   "outputs": [
    {
     "name": "stdout",
     "output_type": "stream",
     "text": [
      "7\n"
     ]
    }
   ],
   "source": [
    "#Quantas escolas têm um orçamento anual acima de 1,5 milhão?#\n",
    "esc_ricas = (escolas[\"Orcamento_Anual\"] > 1_500_000).sum()\n",
    "\n",
    "print(esc_ricas)\n"
   ]
  },
  {
   "cell_type": "code",
   "execution_count": 14,
   "metadata": {},
   "outputs": [
    {
     "name": "stdout",
     "output_type": "stream",
     "text": [
      "       ID_Estudante       Nome_Estudante Genero  Serie Nome_Escola  \\\n",
      "0                 0        Kevin Bradley      M      6    Escola A   \n",
      "1                 1           Paul Smith      M      9    Escola A   \n",
      "2                 2       John Rodriguez      M      9    Escola A   \n",
      "3                 3         Oliver Scott      M      9    Escola A   \n",
      "4                 4          William Ray      F      6    Escola A   \n",
      "...             ...                  ...    ...    ...         ...   \n",
      "39155         39155          John Brooks      M      7    Escola O   \n",
      "39156         39156  Stephanie Contreras      F      8    Escola O   \n",
      "39157         39157     Kristen Gonzalez      F      6    Escola O   \n",
      "39158         39158        Kari Holloway      F      7    Escola O   \n",
      "39159         39159     Kimberly Cabrera      F      8    Escola O   \n",
      "\n",
      "       Nota_Redacao  Nota_Matematica  \n",
      "0                66               79  \n",
      "1                94               61  \n",
      "2                90               60  \n",
      "3                67               58  \n",
      "4                97               84  \n",
      "...             ...              ...  \n",
      "39155            92               98  \n",
      "39156            79               95  \n",
      "39157            79               94  \n",
      "39158            87               90  \n",
      "39159            85               72  \n",
      "\n",
      "[39160 rows x 7 columns]\n"
     ]
    }
   ],
   "source": [
    "import pandas as pd\n",
    "url = \"https://drive.google.com/uc?id=15aOJIGAyLMSY1gecjiCgu2ko_riIcKQy\"\n",
    "alunos = pd.read_csv(url)\n",
    "\n",
    "print(alunos)"
   ]
  },
  {
   "cell_type": "code",
   "execution_count": 15,
   "metadata": {},
   "outputs": [
    {
     "name": "stdout",
     "output_type": "stream",
     "text": [
      "   ID_Estudante   Nome_Estudante Genero  Serie Nome_Escola  Nota_Redacao  \\\n",
      "0             0    Kevin Bradley      M      6    Escola A            66   \n",
      "1             1       Paul Smith      M      9    Escola A            94   \n",
      "2             2   John Rodriguez      M      9    Escola A            90   \n",
      "3             3     Oliver Scott      M      9    Escola A            67   \n",
      "4             4      William Ray      F      6    Escola A            97   \n",
      "5             5    James Miranda      M      6    Escola A            94   \n",
      "6             6  Benjamin Carter      F      8    Escola A            82   \n",
      "7             7      Mason Baker      F      9    Escola A            96   \n",
      "8             8       Ethan Roth      M      7    Escola A            95   \n",
      "9             9     Jacob Greene      M      7    Escola A            96   \n",
      "\n",
      "   Nota_Matematica  ID_Escola Tipo_Escola  Numero_Alunos  Orcamento_Anual  \n",
      "0               79          0     Publica           2917          1910635  \n",
      "1               61          0     Publica           2917          1910635  \n",
      "2               60          0     Publica           2917          1910635  \n",
      "3               58          0     Publica           2917          1910635  \n",
      "4               84          0     Publica           2917          1910635  \n",
      "5               94          0     Publica           2917          1910635  \n",
      "6               80          0     Publica           2917          1910635  \n",
      "7               69          0     Publica           2917          1910635  \n",
      "8               87          0     Publica           2917          1910635  \n",
      "9               84          0     Publica           2917          1910635  \n"
     ]
    }
   ],
   "source": [
    "#União das tabelas em python\n",
    "\n",
    "import pandas as pd\n",
    "\n",
    "url_alunos = \"https://drive.google.com/uc?id=15aOJIGAyLMSY1gecjiCgu2ko_riIcKQy\"\n",
    "url_escolas = \"https://drive.google.com/uc?id=1Jgto7psHaMRTAVzcFt7D6SgJiHMB7uGT\"\n",
    "\n",
    "alunos = pd.read_csv(url_alunos)\n",
    "escolas = pd.read_csv(url_escolas)\n",
    "\n",
    "dados_completos = alunos.merge(escolas, on=\"Nome_Escola\", how=\"inner\")\n",
    "\n",
    "print(dados_completos.head(10))"
   ]
  },
  {
   "cell_type": "code",
   "execution_count": 16,
   "metadata": {},
   "outputs": [
    {
     "name": "stdout",
     "output_type": "stream",
     "text": [
      "Tipo_Escola\n",
      "Publica       26976\n",
      "Particular    12184\n",
      "Name: count, dtype: int64\n"
     ]
    }
   ],
   "source": [
    "#Características que podemos obter com a junção: Distribuição de alunos por tipo de escola\n",
    "\n",
    "distribuicao = dados_completos[\"Tipo_Escola\"].value_counts()\n",
    "\n",
    "print(distribuicao)\n"
   ]
  },
  {
   "cell_type": "code",
   "execution_count": 17,
   "metadata": {},
   "outputs": [
    {
     "name": "stdout",
     "output_type": "stream",
     "text": [
      "Tipo_Escola\n",
      "Particular   598.75\n",
      "Publica      643.09\n",
      "Name: Orcamento_Por_Aluno, dtype: float64\n"
     ]
    }
   ],
   "source": [
    "#Características que podemos obter com a junção: Orçamento por aluno\n",
    "\n",
    "dados_completos[\"Orcamento_Por_Aluno\"] = dados_completos[\"Orcamento_Anual\"] / dados_completos[\"Numero_Alunos\"]\n",
    "orcamento = dados_completos.groupby(\"Tipo_Escola\")[\"Orcamento_Por_Aluno\"].mean()\n",
    "\n",
    "print(orcamento)\n"
   ]
  }
 ],
 "metadata": {
  "kernelspec": {
   "display_name": ".venv",
   "language": "python",
   "name": "python3"
  },
  "language_info": {
   "codemirror_mode": {
    "name": "ipython",
    "version": 3
   },
   "file_extension": ".py",
   "mimetype": "text/x-python",
   "name": "python",
   "nbconvert_exporter": "python",
   "pygments_lexer": "ipython3",
   "version": "3.12.10"
  }
 },
 "nbformat": 4,
 "nbformat_minor": 2
}
