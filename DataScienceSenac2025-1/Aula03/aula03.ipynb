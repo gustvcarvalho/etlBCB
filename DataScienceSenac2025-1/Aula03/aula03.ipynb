{
  "cells": [
    {
      "cell_type": "markdown",
      "metadata": {
        "id": "Yec2hVak1fHb"
      },
      "source": [
        "O engenheiro de dados da sua empresa forneceu acesso a dois conjuntos de dados pré-processados. Agora, cabe a você analisá-los cuidadosamente para identificar quais escolas utilizaram seus recursos de forma mais eficiente na preparação de estudantes que se destacaram nas Olimpíadas de Redação e de Matemática."
      ]
    },
    {
      "cell_type": "code",
      "execution_count": 1,
      "metadata": {
        "id": "HfNyEjpf1fHe"
      },
      "outputs": [],
      "source": [
        "import pandas as pd\n",
        "\n",
        "escolas = pd.read_csv('https://drive.google.com/uc?id=1Jgto7psHaMRTAVzcFt7D6SgJiHMB7uGT')\n",
        "estudantes = pd.read_csv('https://drive.google.com/uc?id=15aOJIGAyLMSY1gecjiCgu2ko_riIcKQy')"
      ]
    },
    {
      "cell_type": "markdown",
      "metadata": {
        "id": "EKfYsHFs1fHf"
      },
      "source": [
        "Como visualizamos o DataFrame escolas?"
      ]
    },
    {
      "cell_type": "code",
      "execution_count": 2,
      "metadata": {
        "id": "Q702MDvc1fHf"
      },
      "outputs": [
        {
          "data": {
            "application/vnd.microsoft.datawrangler.viewer.v0+json": {
              "columns": [
                {
                  "name": "index",
                  "rawType": "int64",
                  "type": "integer"
                },
                {
                  "name": "ID_Escola",
                  "rawType": "int64",
                  "type": "integer"
                },
                {
                  "name": "Nome_Escola",
                  "rawType": "object",
                  "type": "string"
                },
                {
                  "name": "Tipo_Escola",
                  "rawType": "object",
                  "type": "string"
                },
                {
                  "name": "Numero_Alunos",
                  "rawType": "int64",
                  "type": "integer"
                },
                {
                  "name": "Orcamento_Anual",
                  "rawType": "int64",
                  "type": "integer"
                }
              ],
              "conversionMethod": "pd.DataFrame",
              "ref": "2d9460b1-e048-48b1-b194-640bec8d3fde",
              "rows": [
                [
                  "0",
                  "0",
                  "Escola A",
                  "Publica",
                  "2917",
                  "1910635"
                ],
                [
                  "1",
                  "1",
                  "Escola B",
                  "Publica",
                  "2949",
                  "1884411"
                ],
                [
                  "2",
                  "2",
                  "Escola C",
                  "Particular",
                  "1761",
                  "1056600"
                ],
                [
                  "3",
                  "3",
                  "Escola D",
                  "Publica",
                  "4635",
                  "3022020"
                ],
                [
                  "4",
                  "4",
                  "Escola E",
                  "Particular",
                  "1468",
                  "917500"
                ],
                [
                  "5",
                  "5",
                  "Escola F",
                  "Particular",
                  "2283",
                  "1319574"
                ],
                [
                  "6",
                  "6",
                  "Escola G",
                  "Particular",
                  "1858",
                  "1081356"
                ],
                [
                  "7",
                  "7",
                  "Escola H",
                  "Publica",
                  "4976",
                  "3124928"
                ],
                [
                  "8",
                  "8",
                  "Escola I",
                  "Particular",
                  "427",
                  "248087"
                ],
                [
                  "9",
                  "9",
                  "Escola J",
                  "Particular",
                  "962",
                  "585858"
                ],
                [
                  "10",
                  "10",
                  "Escola K",
                  "Particular",
                  "1800",
                  "1049400"
                ],
                [
                  "11",
                  "11",
                  "Escola L",
                  "Publica",
                  "3999",
                  "2547363"
                ],
                [
                  "12",
                  "12",
                  "Escola M",
                  "Publica",
                  "4761",
                  "3094650"
                ],
                [
                  "13",
                  "13",
                  "Escola N",
                  "Publica",
                  "2739",
                  "1763916"
                ],
                [
                  "14",
                  "14",
                  "Escola O",
                  "Particular",
                  "1635",
                  "1043130"
                ]
              ],
              "shape": {
                "columns": 5,
                "rows": 15
              }
            },
            "text/html": [
              "<div>\n",
              "<style scoped>\n",
              "    .dataframe tbody tr th:only-of-type {\n",
              "        vertical-align: middle;\n",
              "    }\n",
              "\n",
              "    .dataframe tbody tr th {\n",
              "        vertical-align: top;\n",
              "    }\n",
              "\n",
              "    .dataframe thead th {\n",
              "        text-align: right;\n",
              "    }\n",
              "</style>\n",
              "<table border=\"1\" class=\"dataframe\">\n",
              "  <thead>\n",
              "    <tr style=\"text-align: right;\">\n",
              "      <th></th>\n",
              "      <th>ID_Escola</th>\n",
              "      <th>Nome_Escola</th>\n",
              "      <th>Tipo_Escola</th>\n",
              "      <th>Numero_Alunos</th>\n",
              "      <th>Orcamento_Anual</th>\n",
              "    </tr>\n",
              "  </thead>\n",
              "  <tbody>\n",
              "    <tr>\n",
              "      <th>0</th>\n",
              "      <td>0</td>\n",
              "      <td>Escola A</td>\n",
              "      <td>Publica</td>\n",
              "      <td>2917</td>\n",
              "      <td>1910635</td>\n",
              "    </tr>\n",
              "    <tr>\n",
              "      <th>1</th>\n",
              "      <td>1</td>\n",
              "      <td>Escola B</td>\n",
              "      <td>Publica</td>\n",
              "      <td>2949</td>\n",
              "      <td>1884411</td>\n",
              "    </tr>\n",
              "    <tr>\n",
              "      <th>2</th>\n",
              "      <td>2</td>\n",
              "      <td>Escola C</td>\n",
              "      <td>Particular</td>\n",
              "      <td>1761</td>\n",
              "      <td>1056600</td>\n",
              "    </tr>\n",
              "    <tr>\n",
              "      <th>3</th>\n",
              "      <td>3</td>\n",
              "      <td>Escola D</td>\n",
              "      <td>Publica</td>\n",
              "      <td>4635</td>\n",
              "      <td>3022020</td>\n",
              "    </tr>\n",
              "    <tr>\n",
              "      <th>4</th>\n",
              "      <td>4</td>\n",
              "      <td>Escola E</td>\n",
              "      <td>Particular</td>\n",
              "      <td>1468</td>\n",
              "      <td>917500</td>\n",
              "    </tr>\n",
              "    <tr>\n",
              "      <th>5</th>\n",
              "      <td>5</td>\n",
              "      <td>Escola F</td>\n",
              "      <td>Particular</td>\n",
              "      <td>2283</td>\n",
              "      <td>1319574</td>\n",
              "    </tr>\n",
              "    <tr>\n",
              "      <th>6</th>\n",
              "      <td>6</td>\n",
              "      <td>Escola G</td>\n",
              "      <td>Particular</td>\n",
              "      <td>1858</td>\n",
              "      <td>1081356</td>\n",
              "    </tr>\n",
              "    <tr>\n",
              "      <th>7</th>\n",
              "      <td>7</td>\n",
              "      <td>Escola H</td>\n",
              "      <td>Publica</td>\n",
              "      <td>4976</td>\n",
              "      <td>3124928</td>\n",
              "    </tr>\n",
              "    <tr>\n",
              "      <th>8</th>\n",
              "      <td>8</td>\n",
              "      <td>Escola I</td>\n",
              "      <td>Particular</td>\n",
              "      <td>427</td>\n",
              "      <td>248087</td>\n",
              "    </tr>\n",
              "    <tr>\n",
              "      <th>9</th>\n",
              "      <td>9</td>\n",
              "      <td>Escola J</td>\n",
              "      <td>Particular</td>\n",
              "      <td>962</td>\n",
              "      <td>585858</td>\n",
              "    </tr>\n",
              "    <tr>\n",
              "      <th>10</th>\n",
              "      <td>10</td>\n",
              "      <td>Escola K</td>\n",
              "      <td>Particular</td>\n",
              "      <td>1800</td>\n",
              "      <td>1049400</td>\n",
              "    </tr>\n",
              "    <tr>\n",
              "      <th>11</th>\n",
              "      <td>11</td>\n",
              "      <td>Escola L</td>\n",
              "      <td>Publica</td>\n",
              "      <td>3999</td>\n",
              "      <td>2547363</td>\n",
              "    </tr>\n",
              "    <tr>\n",
              "      <th>12</th>\n",
              "      <td>12</td>\n",
              "      <td>Escola M</td>\n",
              "      <td>Publica</td>\n",
              "      <td>4761</td>\n",
              "      <td>3094650</td>\n",
              "    </tr>\n",
              "    <tr>\n",
              "      <th>13</th>\n",
              "      <td>13</td>\n",
              "      <td>Escola N</td>\n",
              "      <td>Publica</td>\n",
              "      <td>2739</td>\n",
              "      <td>1763916</td>\n",
              "    </tr>\n",
              "    <tr>\n",
              "      <th>14</th>\n",
              "      <td>14</td>\n",
              "      <td>Escola O</td>\n",
              "      <td>Particular</td>\n",
              "      <td>1635</td>\n",
              "      <td>1043130</td>\n",
              "    </tr>\n",
              "  </tbody>\n",
              "</table>\n",
              "</div>"
            ],
            "text/plain": [
              "    ID_Escola Nome_Escola Tipo_Escola  Numero_Alunos  Orcamento_Anual\n",
              "0           0    Escola A     Publica           2917          1910635\n",
              "1           1    Escola B     Publica           2949          1884411\n",
              "2           2    Escola C  Particular           1761          1056600\n",
              "3           3    Escola D     Publica           4635          3022020\n",
              "4           4    Escola E  Particular           1468           917500\n",
              "5           5    Escola F  Particular           2283          1319574\n",
              "6           6    Escola G  Particular           1858          1081356\n",
              "7           7    Escola H     Publica           4976          3124928\n",
              "8           8    Escola I  Particular            427           248087\n",
              "9           9    Escola J  Particular            962           585858\n",
              "10         10    Escola K  Particular           1800          1049400\n",
              "11         11    Escola L     Publica           3999          2547363\n",
              "12         12    Escola M     Publica           4761          3094650\n",
              "13         13    Escola N     Publica           2739          1763916\n",
              "14         14    Escola O  Particular           1635          1043130"
            ]
          },
          "execution_count": 2,
          "metadata": {},
          "output_type": "execute_result"
        }
      ],
      "source": [
        "escolas"
      ]
    },
    {
      "cell_type": "markdown",
      "metadata": {
        "id": "mBm5eIWS1fHf"
      },
      "source": [
        "E o estudantes?"
      ]
    },
    {
      "cell_type": "code",
      "execution_count": 4,
      "metadata": {
        "id": "z-AcgTwi1fHf"
      },
      "outputs": [
        {
          "data": {
            "application/vnd.microsoft.datawrangler.viewer.v0+json": {
              "columns": [
                {
                  "name": "index",
                  "rawType": "int64",
                  "type": "integer"
                },
                {
                  "name": "ID_Estudante",
                  "rawType": "int64",
                  "type": "integer"
                },
                {
                  "name": "Nome_Estudante",
                  "rawType": "object",
                  "type": "string"
                },
                {
                  "name": "Genero",
                  "rawType": "object",
                  "type": "string"
                },
                {
                  "name": "Serie",
                  "rawType": "int64",
                  "type": "integer"
                },
                {
                  "name": "Nome_Escola",
                  "rawType": "object",
                  "type": "string"
                },
                {
                  "name": "Nota_Redacao",
                  "rawType": "int64",
                  "type": "integer"
                },
                {
                  "name": "Nota_Matematica",
                  "rawType": "int64",
                  "type": "integer"
                }
              ],
              "conversionMethod": "pd.DataFrame",
              "ref": "6d89e0ca-d84b-40bc-81a8-66f7eb8fd220",
              "rows": [
                [
                  "0",
                  "0",
                  "Kevin Bradley",
                  "M",
                  "6",
                  "Escola A",
                  "66",
                  "79"
                ],
                [
                  "1",
                  "1",
                  "Paul Smith",
                  "M",
                  "9",
                  "Escola A",
                  "94",
                  "61"
                ],
                [
                  "2",
                  "2",
                  "John Rodriguez",
                  "M",
                  "9",
                  "Escola A",
                  "90",
                  "60"
                ],
                [
                  "3",
                  "3",
                  "Oliver Scott",
                  "M",
                  "9",
                  "Escola A",
                  "67",
                  "58"
                ],
                [
                  "4",
                  "4",
                  "William Ray",
                  "F",
                  "6",
                  "Escola A",
                  "97",
                  "84"
                ],
                [
                  "5",
                  "5",
                  "James Miranda",
                  "M",
                  "6",
                  "Escola A",
                  "94",
                  "94"
                ],
                [
                  "6",
                  "6",
                  "Benjamin Carter",
                  "F",
                  "8",
                  "Escola A",
                  "82",
                  "80"
                ],
                [
                  "7",
                  "7",
                  "Mason Baker",
                  "F",
                  "9",
                  "Escola A",
                  "96",
                  "69"
                ],
                [
                  "8",
                  "8",
                  "Ethan Roth",
                  "M",
                  "7",
                  "Escola A",
                  "95",
                  "87"
                ],
                [
                  "9",
                  "9",
                  "Jacob Greene",
                  "M",
                  "7",
                  "Escola A",
                  "96",
                  "84"
                ],
                [
                  "10",
                  "10",
                  "Logan Alexander",
                  "M",
                  "7",
                  "Escola A",
                  "90",
                  "70"
                ],
                [
                  "11",
                  "11",
                  "Jackson Cooper",
                  "M",
                  "7",
                  "Escola A",
                  "78",
                  "77"
                ],
                [
                  "12",
                  "12",
                  "Sebastian Walker",
                  "F",
                  "6",
                  "Escola A",
                  "64",
                  "79"
                ],
                [
                  "13",
                  "13",
                  "Mateo Long",
                  "M",
                  "6",
                  "Escola A",
                  "71",
                  "79"
                ],
                [
                  "14",
                  "14",
                  "Jack Hebert",
                  "F",
                  "7",
                  "Escola A",
                  "85",
                  "67"
                ],
                [
                  "15",
                  "15",
                  "Owen Carson",
                  "M",
                  "8",
                  "Escola A",
                  "94",
                  "88"
                ],
                [
                  "16",
                  "16",
                  "Theodore Zamora",
                  "M",
                  "6",
                  "Escola A",
                  "88",
                  "55"
                ],
                [
                  "17",
                  "17",
                  "Aiden Santiago",
                  "F",
                  "6",
                  "Escola A",
                  "74",
                  "75"
                ],
                [
                  "18",
                  "18",
                  "Wyatt Stevens",
                  "M",
                  "6",
                  "Escola A",
                  "64",
                  "69"
                ],
                [
                  "19",
                  "19",
                  "Asher Lyons",
                  "F",
                  "6",
                  "Escola A",
                  "89",
                  "80"
                ],
                [
                  "20",
                  "20",
                  "Carter Davis",
                  "F",
                  "7",
                  "Escola A",
                  "91",
                  "89"
                ],
                [
                  "21",
                  "21",
                  "Kristen Lopez",
                  "F",
                  "7",
                  "Escola A",
                  "90",
                  "77"
                ],
                [
                  "22",
                  "22",
                  "Julian Stewart",
                  "F",
                  "8",
                  "Escola A",
                  "99",
                  "84"
                ],
                [
                  "23",
                  "23",
                  "Christopher Parker",
                  "M",
                  "6",
                  "Escola A",
                  "81",
                  "68"
                ],
                [
                  "24",
                  "24",
                  "Chelsea Griffith",
                  "F",
                  "8",
                  "Escola A",
                  "85",
                  "73"
                ],
                [
                  "25",
                  "25",
                  "Cesar Morris",
                  "M",
                  "6",
                  "Escola A",
                  "92",
                  "70"
                ],
                [
                  "26",
                  "26",
                  "Melanie Decker",
                  "F",
                  "6",
                  "Escola A",
                  "63",
                  "85"
                ],
                [
                  "27",
                  "27",
                  "Tracey Oconnor",
                  "F",
                  "7",
                  "Escola A",
                  "80",
                  "58"
                ],
                [
                  "28",
                  "28",
                  "Kelly James",
                  "F",
                  "8",
                  "Escola A",
                  "73",
                  "55"
                ],
                [
                  "29",
                  "29",
                  "Nicole Brown",
                  "F",
                  "9",
                  "Escola A",
                  "90",
                  "88"
                ],
                [
                  "30",
                  "30",
                  "Bobby Harris",
                  "M",
                  "6",
                  "Escola A",
                  "94",
                  "99"
                ],
                [
                  "31",
                  "31",
                  "Brian Fernandez",
                  "M",
                  "7",
                  "Escola A",
                  "97",
                  "65"
                ],
                [
                  "32",
                  "32",
                  "Candace Phelps",
                  "F",
                  "8",
                  "Escola A",
                  "93",
                  "90"
                ],
                [
                  "33",
                  "33",
                  "Amy Gonzalez",
                  "F",
                  "9",
                  "Escola A",
                  "95",
                  "68"
                ],
                [
                  "34",
                  "34",
                  "Steven Green",
                  "M",
                  "8",
                  "Escola A",
                  "65",
                  "74"
                ],
                [
                  "35",
                  "35",
                  "Benjamin Carlson",
                  "M",
                  "7",
                  "Escola A",
                  "99",
                  "61"
                ],
                [
                  "36",
                  "36",
                  "Kevin Bailey",
                  "M",
                  "7",
                  "Escola A",
                  "76",
                  "76"
                ],
                [
                  "37",
                  "37",
                  "Jesse Newton",
                  "M",
                  "7",
                  "Escola A",
                  "63",
                  "66"
                ],
                [
                  "38",
                  "38",
                  "Kimberly Mercado",
                  "F",
                  "9",
                  "Escola A",
                  "73",
                  "77"
                ],
                [
                  "39",
                  "39",
                  "Gregory Roberts",
                  "M",
                  "6",
                  "Escola A",
                  "80",
                  "61"
                ],
                [
                  "40",
                  "40",
                  "Matthew Mayer",
                  "M",
                  "6",
                  "Escola A",
                  "79",
                  "69"
                ],
                [
                  "41",
                  "41",
                  "Jennifer Parks",
                  "F",
                  "8",
                  "Escola A",
                  "85",
                  "95"
                ],
                [
                  "42",
                  "42",
                  "John Carlson",
                  "M",
                  "6",
                  "Escola A",
                  "65",
                  "89"
                ],
                [
                  "43",
                  "43",
                  "Megan Roberts",
                  "F",
                  "6",
                  "Escola A",
                  "66",
                  "90"
                ],
                [
                  "44",
                  "44",
                  "Debra Flores",
                  "F",
                  "7",
                  "Escola A",
                  "75",
                  "66"
                ],
                [
                  "45",
                  "45",
                  "Heidi Jackson",
                  "F",
                  "8",
                  "Escola A",
                  "64",
                  "93"
                ],
                [
                  "46",
                  "46",
                  "Denise Bradford",
                  "F",
                  "9",
                  "Escola A",
                  "73",
                  "59"
                ],
                [
                  "47",
                  "47",
                  "Ellen Brown",
                  "F",
                  "8",
                  "Escola A",
                  "77",
                  "81"
                ],
                [
                  "48",
                  "48",
                  "Amy Perkins",
                  "F",
                  "6",
                  "Escola A",
                  "76",
                  "66"
                ],
                [
                  "49",
                  "49",
                  "Natalie Mitchell",
                  "F",
                  "7",
                  "Escola A",
                  "73",
                  "93"
                ]
              ],
              "shape": {
                "columns": 7,
                "rows": 39160
              }
            },
            "text/html": [
              "<div>\n",
              "<style scoped>\n",
              "    .dataframe tbody tr th:only-of-type {\n",
              "        vertical-align: middle;\n",
              "    }\n",
              "\n",
              "    .dataframe tbody tr th {\n",
              "        vertical-align: top;\n",
              "    }\n",
              "\n",
              "    .dataframe thead th {\n",
              "        text-align: right;\n",
              "    }\n",
              "</style>\n",
              "<table border=\"1\" class=\"dataframe\">\n",
              "  <thead>\n",
              "    <tr style=\"text-align: right;\">\n",
              "      <th></th>\n",
              "      <th>ID_Estudante</th>\n",
              "      <th>Nome_Estudante</th>\n",
              "      <th>Genero</th>\n",
              "      <th>Serie</th>\n",
              "      <th>Nome_Escola</th>\n",
              "      <th>Nota_Redacao</th>\n",
              "      <th>Nota_Matematica</th>\n",
              "    </tr>\n",
              "  </thead>\n",
              "  <tbody>\n",
              "    <tr>\n",
              "      <th>0</th>\n",
              "      <td>0</td>\n",
              "      <td>Kevin Bradley</td>\n",
              "      <td>M</td>\n",
              "      <td>6</td>\n",
              "      <td>Escola A</td>\n",
              "      <td>66</td>\n",
              "      <td>79</td>\n",
              "    </tr>\n",
              "    <tr>\n",
              "      <th>1</th>\n",
              "      <td>1</td>\n",
              "      <td>Paul Smith</td>\n",
              "      <td>M</td>\n",
              "      <td>9</td>\n",
              "      <td>Escola A</td>\n",
              "      <td>94</td>\n",
              "      <td>61</td>\n",
              "    </tr>\n",
              "    <tr>\n",
              "      <th>2</th>\n",
              "      <td>2</td>\n",
              "      <td>John Rodriguez</td>\n",
              "      <td>M</td>\n",
              "      <td>9</td>\n",
              "      <td>Escola A</td>\n",
              "      <td>90</td>\n",
              "      <td>60</td>\n",
              "    </tr>\n",
              "    <tr>\n",
              "      <th>3</th>\n",
              "      <td>3</td>\n",
              "      <td>Oliver Scott</td>\n",
              "      <td>M</td>\n",
              "      <td>9</td>\n",
              "      <td>Escola A</td>\n",
              "      <td>67</td>\n",
              "      <td>58</td>\n",
              "    </tr>\n",
              "    <tr>\n",
              "      <th>4</th>\n",
              "      <td>4</td>\n",
              "      <td>William Ray</td>\n",
              "      <td>F</td>\n",
              "      <td>6</td>\n",
              "      <td>Escola A</td>\n",
              "      <td>97</td>\n",
              "      <td>84</td>\n",
              "    </tr>\n",
              "    <tr>\n",
              "      <th>...</th>\n",
              "      <td>...</td>\n",
              "      <td>...</td>\n",
              "      <td>...</td>\n",
              "      <td>...</td>\n",
              "      <td>...</td>\n",
              "      <td>...</td>\n",
              "      <td>...</td>\n",
              "    </tr>\n",
              "    <tr>\n",
              "      <th>39155</th>\n",
              "      <td>39155</td>\n",
              "      <td>John Brooks</td>\n",
              "      <td>M</td>\n",
              "      <td>7</td>\n",
              "      <td>Escola O</td>\n",
              "      <td>92</td>\n",
              "      <td>98</td>\n",
              "    </tr>\n",
              "    <tr>\n",
              "      <th>39156</th>\n",
              "      <td>39156</td>\n",
              "      <td>Stephanie Contreras</td>\n",
              "      <td>F</td>\n",
              "      <td>8</td>\n",
              "      <td>Escola O</td>\n",
              "      <td>79</td>\n",
              "      <td>95</td>\n",
              "    </tr>\n",
              "    <tr>\n",
              "      <th>39157</th>\n",
              "      <td>39157</td>\n",
              "      <td>Kristen Gonzalez</td>\n",
              "      <td>F</td>\n",
              "      <td>6</td>\n",
              "      <td>Escola O</td>\n",
              "      <td>79</td>\n",
              "      <td>94</td>\n",
              "    </tr>\n",
              "    <tr>\n",
              "      <th>39158</th>\n",
              "      <td>39158</td>\n",
              "      <td>Kari Holloway</td>\n",
              "      <td>F</td>\n",
              "      <td>7</td>\n",
              "      <td>Escola O</td>\n",
              "      <td>87</td>\n",
              "      <td>90</td>\n",
              "    </tr>\n",
              "    <tr>\n",
              "      <th>39159</th>\n",
              "      <td>39159</td>\n",
              "      <td>Kimberly Cabrera</td>\n",
              "      <td>F</td>\n",
              "      <td>8</td>\n",
              "      <td>Escola O</td>\n",
              "      <td>85</td>\n",
              "      <td>72</td>\n",
              "    </tr>\n",
              "  </tbody>\n",
              "</table>\n",
              "<p>39160 rows × 7 columns</p>\n",
              "</div>"
            ],
            "text/plain": [
              "       ID_Estudante       Nome_Estudante Genero  Serie Nome_Escola  \\\n",
              "0                 0        Kevin Bradley      M      6    Escola A   \n",
              "1                 1           Paul Smith      M      9    Escola A   \n",
              "2                 2       John Rodriguez      M      9    Escola A   \n",
              "3                 3         Oliver Scott      M      9    Escola A   \n",
              "4                 4          William Ray      F      6    Escola A   \n",
              "...             ...                  ...    ...    ...         ...   \n",
              "39155         39155          John Brooks      M      7    Escola O   \n",
              "39156         39156  Stephanie Contreras      F      8    Escola O   \n",
              "39157         39157     Kristen Gonzalez      F      6    Escola O   \n",
              "39158         39158        Kari Holloway      F      7    Escola O   \n",
              "39159         39159     Kimberly Cabrera      F      8    Escola O   \n",
              "\n",
              "       Nota_Redacao  Nota_Matematica  \n",
              "0                66               79  \n",
              "1                94               61  \n",
              "2                90               60  \n",
              "3                67               58  \n",
              "4                97               84  \n",
              "...             ...              ...  \n",
              "39155            92               98  \n",
              "39156            79               95  \n",
              "39157            79               94  \n",
              "39158            87               90  \n",
              "39159            85               72  \n",
              "\n",
              "[39160 rows x 7 columns]"
            ]
          },
          "execution_count": 4,
          "metadata": {},
          "output_type": "execute_result"
        }
      ],
      "source": [
        "estudantes\n"
      ]
    },
    {
      "cell_type": "markdown",
      "metadata": {
        "id": "xLZ8JbJh1fHg"
      },
      "source": [
        "Já conhecemos o DataFrame escolas, mas como podemos obter mais informações sobre o estudantes?"
      ]
    },
    {
      "cell_type": "code",
      "execution_count": 9,
      "metadata": {
        "id": "OpFSrXeC1fHg"
      },
      "outputs": [
        {
          "data": {
            "text/plain": [
              "ID_Estudante       0\n",
              "Nome_Estudante     0\n",
              "Genero             0\n",
              "Serie              0\n",
              "Nome_Escola        0\n",
              "Nota_Redacao       0\n",
              "Nota_Matematica    0\n",
              "dtype: int64"
            ]
          },
          "execution_count": 9,
          "metadata": {},
          "output_type": "execute_result"
        }
      ],
      "source": [
        "estudantes.isna().sum()"
      ]
    },
    {
      "cell_type": "markdown",
      "metadata": {
        "id": "cjl4MN5x1fHg"
      },
      "source": [
        "Perguntas:\n",
        "\n",
        "Existem dados faltantes nas tabelas? Não\n",
        "\n",
        "\n",
        "Existe algo em comum nas duas tabelas? Nome_Escola\n"
      ]
    },
    {
      "cell_type": "markdown",
      "metadata": {
        "id": "dFioLxHt1fHg"
      },
      "source": [
        "### Combinando os DataFrames:"
      ]
    },
    {
      "cell_type": "code",
      "execution_count": 14,
      "metadata": {
        "id": "XjCCpWHY1fHg"
      },
      "outputs": [
        {
          "data": {
            "application/vnd.microsoft.datawrangler.viewer.v0+json": {
              "columns": [
                {
                  "name": "index",
                  "rawType": "int64",
                  "type": "integer"
                },
                {
                  "name": "ID_Estudante",
                  "rawType": "int64",
                  "type": "integer"
                },
                {
                  "name": "Nome_Estudante",
                  "rawType": "object",
                  "type": "string"
                },
                {
                  "name": "Genero",
                  "rawType": "object",
                  "type": "string"
                },
                {
                  "name": "Serie",
                  "rawType": "int64",
                  "type": "integer"
                },
                {
                  "name": "Nome_Escola",
                  "rawType": "object",
                  "type": "string"
                },
                {
                  "name": "Nota_Redacao",
                  "rawType": "int64",
                  "type": "integer"
                },
                {
                  "name": "Nota_Matematica",
                  "rawType": "int64",
                  "type": "integer"
                },
                {
                  "name": "ID_Escola",
                  "rawType": "int64",
                  "type": "integer"
                },
                {
                  "name": "Tipo_Escola",
                  "rawType": "object",
                  "type": "string"
                },
                {
                  "name": "Numero_Alunos",
                  "rawType": "int64",
                  "type": "integer"
                },
                {
                  "name": "Orcamento_Anual",
                  "rawType": "int64",
                  "type": "integer"
                }
              ],
              "conversionMethod": "pd.DataFrame",
              "ref": "c41c65cc-8ee3-4d2b-ab5f-31caf5825f9a",
              "rows": [
                [
                  "0",
                  "0",
                  "Kevin Bradley",
                  "M",
                  "6",
                  "Escola A",
                  "66",
                  "79",
                  "0",
                  "Publica",
                  "2917",
                  "1910635"
                ],
                [
                  "1",
                  "1",
                  "Paul Smith",
                  "M",
                  "9",
                  "Escola A",
                  "94",
                  "61",
                  "0",
                  "Publica",
                  "2917",
                  "1910635"
                ],
                [
                  "2",
                  "2",
                  "John Rodriguez",
                  "M",
                  "9",
                  "Escola A",
                  "90",
                  "60",
                  "0",
                  "Publica",
                  "2917",
                  "1910635"
                ],
                [
                  "3",
                  "3",
                  "Oliver Scott",
                  "M",
                  "9",
                  "Escola A",
                  "67",
                  "58",
                  "0",
                  "Publica",
                  "2917",
                  "1910635"
                ],
                [
                  "4",
                  "4",
                  "William Ray",
                  "F",
                  "6",
                  "Escola A",
                  "97",
                  "84",
                  "0",
                  "Publica",
                  "2917",
                  "1910635"
                ],
                [
                  "5",
                  "5",
                  "James Miranda",
                  "M",
                  "6",
                  "Escola A",
                  "94",
                  "94",
                  "0",
                  "Publica",
                  "2917",
                  "1910635"
                ],
                [
                  "6",
                  "6",
                  "Benjamin Carter",
                  "F",
                  "8",
                  "Escola A",
                  "82",
                  "80",
                  "0",
                  "Publica",
                  "2917",
                  "1910635"
                ],
                [
                  "7",
                  "7",
                  "Mason Baker",
                  "F",
                  "9",
                  "Escola A",
                  "96",
                  "69",
                  "0",
                  "Publica",
                  "2917",
                  "1910635"
                ],
                [
                  "8",
                  "8",
                  "Ethan Roth",
                  "M",
                  "7",
                  "Escola A",
                  "95",
                  "87",
                  "0",
                  "Publica",
                  "2917",
                  "1910635"
                ],
                [
                  "9",
                  "9",
                  "Jacob Greene",
                  "M",
                  "7",
                  "Escola A",
                  "96",
                  "84",
                  "0",
                  "Publica",
                  "2917",
                  "1910635"
                ],
                [
                  "10",
                  "10",
                  "Logan Alexander",
                  "M",
                  "7",
                  "Escola A",
                  "90",
                  "70",
                  "0",
                  "Publica",
                  "2917",
                  "1910635"
                ],
                [
                  "11",
                  "11",
                  "Jackson Cooper",
                  "M",
                  "7",
                  "Escola A",
                  "78",
                  "77",
                  "0",
                  "Publica",
                  "2917",
                  "1910635"
                ],
                [
                  "12",
                  "12",
                  "Sebastian Walker",
                  "F",
                  "6",
                  "Escola A",
                  "64",
                  "79",
                  "0",
                  "Publica",
                  "2917",
                  "1910635"
                ],
                [
                  "13",
                  "13",
                  "Mateo Long",
                  "M",
                  "6",
                  "Escola A",
                  "71",
                  "79",
                  "0",
                  "Publica",
                  "2917",
                  "1910635"
                ],
                [
                  "14",
                  "14",
                  "Jack Hebert",
                  "F",
                  "7",
                  "Escola A",
                  "85",
                  "67",
                  "0",
                  "Publica",
                  "2917",
                  "1910635"
                ],
                [
                  "15",
                  "15",
                  "Owen Carson",
                  "M",
                  "8",
                  "Escola A",
                  "94",
                  "88",
                  "0",
                  "Publica",
                  "2917",
                  "1910635"
                ],
                [
                  "16",
                  "16",
                  "Theodore Zamora",
                  "M",
                  "6",
                  "Escola A",
                  "88",
                  "55",
                  "0",
                  "Publica",
                  "2917",
                  "1910635"
                ],
                [
                  "17",
                  "17",
                  "Aiden Santiago",
                  "F",
                  "6",
                  "Escola A",
                  "74",
                  "75",
                  "0",
                  "Publica",
                  "2917",
                  "1910635"
                ],
                [
                  "18",
                  "18",
                  "Wyatt Stevens",
                  "M",
                  "6",
                  "Escola A",
                  "64",
                  "69",
                  "0",
                  "Publica",
                  "2917",
                  "1910635"
                ],
                [
                  "19",
                  "19",
                  "Asher Lyons",
                  "F",
                  "6",
                  "Escola A",
                  "89",
                  "80",
                  "0",
                  "Publica",
                  "2917",
                  "1910635"
                ],
                [
                  "20",
                  "20",
                  "Carter Davis",
                  "F",
                  "7",
                  "Escola A",
                  "91",
                  "89",
                  "0",
                  "Publica",
                  "2917",
                  "1910635"
                ],
                [
                  "21",
                  "21",
                  "Kristen Lopez",
                  "F",
                  "7",
                  "Escola A",
                  "90",
                  "77",
                  "0",
                  "Publica",
                  "2917",
                  "1910635"
                ],
                [
                  "22",
                  "22",
                  "Julian Stewart",
                  "F",
                  "8",
                  "Escola A",
                  "99",
                  "84",
                  "0",
                  "Publica",
                  "2917",
                  "1910635"
                ],
                [
                  "23",
                  "23",
                  "Christopher Parker",
                  "M",
                  "6",
                  "Escola A",
                  "81",
                  "68",
                  "0",
                  "Publica",
                  "2917",
                  "1910635"
                ],
                [
                  "24",
                  "24",
                  "Chelsea Griffith",
                  "F",
                  "8",
                  "Escola A",
                  "85",
                  "73",
                  "0",
                  "Publica",
                  "2917",
                  "1910635"
                ],
                [
                  "25",
                  "25",
                  "Cesar Morris",
                  "M",
                  "6",
                  "Escola A",
                  "92",
                  "70",
                  "0",
                  "Publica",
                  "2917",
                  "1910635"
                ],
                [
                  "26",
                  "26",
                  "Melanie Decker",
                  "F",
                  "6",
                  "Escola A",
                  "63",
                  "85",
                  "0",
                  "Publica",
                  "2917",
                  "1910635"
                ],
                [
                  "27",
                  "27",
                  "Tracey Oconnor",
                  "F",
                  "7",
                  "Escola A",
                  "80",
                  "58",
                  "0",
                  "Publica",
                  "2917",
                  "1910635"
                ],
                [
                  "28",
                  "28",
                  "Kelly James",
                  "F",
                  "8",
                  "Escola A",
                  "73",
                  "55",
                  "0",
                  "Publica",
                  "2917",
                  "1910635"
                ],
                [
                  "29",
                  "29",
                  "Nicole Brown",
                  "F",
                  "9",
                  "Escola A",
                  "90",
                  "88",
                  "0",
                  "Publica",
                  "2917",
                  "1910635"
                ],
                [
                  "30",
                  "30",
                  "Bobby Harris",
                  "M",
                  "6",
                  "Escola A",
                  "94",
                  "99",
                  "0",
                  "Publica",
                  "2917",
                  "1910635"
                ],
                [
                  "31",
                  "31",
                  "Brian Fernandez",
                  "M",
                  "7",
                  "Escola A",
                  "97",
                  "65",
                  "0",
                  "Publica",
                  "2917",
                  "1910635"
                ],
                [
                  "32",
                  "32",
                  "Candace Phelps",
                  "F",
                  "8",
                  "Escola A",
                  "93",
                  "90",
                  "0",
                  "Publica",
                  "2917",
                  "1910635"
                ],
                [
                  "33",
                  "33",
                  "Amy Gonzalez",
                  "F",
                  "9",
                  "Escola A",
                  "95",
                  "68",
                  "0",
                  "Publica",
                  "2917",
                  "1910635"
                ],
                [
                  "34",
                  "34",
                  "Steven Green",
                  "M",
                  "8",
                  "Escola A",
                  "65",
                  "74",
                  "0",
                  "Publica",
                  "2917",
                  "1910635"
                ],
                [
                  "35",
                  "35",
                  "Benjamin Carlson",
                  "M",
                  "7",
                  "Escola A",
                  "99",
                  "61",
                  "0",
                  "Publica",
                  "2917",
                  "1910635"
                ],
                [
                  "36",
                  "36",
                  "Kevin Bailey",
                  "M",
                  "7",
                  "Escola A",
                  "76",
                  "76",
                  "0",
                  "Publica",
                  "2917",
                  "1910635"
                ],
                [
                  "37",
                  "37",
                  "Jesse Newton",
                  "M",
                  "7",
                  "Escola A",
                  "63",
                  "66",
                  "0",
                  "Publica",
                  "2917",
                  "1910635"
                ],
                [
                  "38",
                  "38",
                  "Kimberly Mercado",
                  "F",
                  "9",
                  "Escola A",
                  "73",
                  "77",
                  "0",
                  "Publica",
                  "2917",
                  "1910635"
                ],
                [
                  "39",
                  "39",
                  "Gregory Roberts",
                  "M",
                  "6",
                  "Escola A",
                  "80",
                  "61",
                  "0",
                  "Publica",
                  "2917",
                  "1910635"
                ],
                [
                  "40",
                  "40",
                  "Matthew Mayer",
                  "M",
                  "6",
                  "Escola A",
                  "79",
                  "69",
                  "0",
                  "Publica",
                  "2917",
                  "1910635"
                ],
                [
                  "41",
                  "41",
                  "Jennifer Parks",
                  "F",
                  "8",
                  "Escola A",
                  "85",
                  "95",
                  "0",
                  "Publica",
                  "2917",
                  "1910635"
                ],
                [
                  "42",
                  "42",
                  "John Carlson",
                  "M",
                  "6",
                  "Escola A",
                  "65",
                  "89",
                  "0",
                  "Publica",
                  "2917",
                  "1910635"
                ],
                [
                  "43",
                  "43",
                  "Megan Roberts",
                  "F",
                  "6",
                  "Escola A",
                  "66",
                  "90",
                  "0",
                  "Publica",
                  "2917",
                  "1910635"
                ],
                [
                  "44",
                  "44",
                  "Debra Flores",
                  "F",
                  "7",
                  "Escola A",
                  "75",
                  "66",
                  "0",
                  "Publica",
                  "2917",
                  "1910635"
                ],
                [
                  "45",
                  "45",
                  "Heidi Jackson",
                  "F",
                  "8",
                  "Escola A",
                  "64",
                  "93",
                  "0",
                  "Publica",
                  "2917",
                  "1910635"
                ],
                [
                  "46",
                  "46",
                  "Denise Bradford",
                  "F",
                  "9",
                  "Escola A",
                  "73",
                  "59",
                  "0",
                  "Publica",
                  "2917",
                  "1910635"
                ],
                [
                  "47",
                  "47",
                  "Ellen Brown",
                  "F",
                  "8",
                  "Escola A",
                  "77",
                  "81",
                  "0",
                  "Publica",
                  "2917",
                  "1910635"
                ],
                [
                  "48",
                  "48",
                  "Amy Perkins",
                  "F",
                  "6",
                  "Escola A",
                  "76",
                  "66",
                  "0",
                  "Publica",
                  "2917",
                  "1910635"
                ],
                [
                  "49",
                  "49",
                  "Natalie Mitchell",
                  "F",
                  "7",
                  "Escola A",
                  "73",
                  "93",
                  "0",
                  "Publica",
                  "2917",
                  "1910635"
                ]
              ],
              "shape": {
                "columns": 11,
                "rows": 39160
              }
            },
            "text/html": [
              "<div>\n",
              "<style scoped>\n",
              "    .dataframe tbody tr th:only-of-type {\n",
              "        vertical-align: middle;\n",
              "    }\n",
              "\n",
              "    .dataframe tbody tr th {\n",
              "        vertical-align: top;\n",
              "    }\n",
              "\n",
              "    .dataframe thead th {\n",
              "        text-align: right;\n",
              "    }\n",
              "</style>\n",
              "<table border=\"1\" class=\"dataframe\">\n",
              "  <thead>\n",
              "    <tr style=\"text-align: right;\">\n",
              "      <th></th>\n",
              "      <th>ID_Estudante</th>\n",
              "      <th>Nome_Estudante</th>\n",
              "      <th>Genero</th>\n",
              "      <th>Serie</th>\n",
              "      <th>Nome_Escola</th>\n",
              "      <th>Nota_Redacao</th>\n",
              "      <th>Nota_Matematica</th>\n",
              "      <th>ID_Escola</th>\n",
              "      <th>Tipo_Escola</th>\n",
              "      <th>Numero_Alunos</th>\n",
              "      <th>Orcamento_Anual</th>\n",
              "    </tr>\n",
              "  </thead>\n",
              "  <tbody>\n",
              "    <tr>\n",
              "      <th>0</th>\n",
              "      <td>0</td>\n",
              "      <td>Kevin Bradley</td>\n",
              "      <td>M</td>\n",
              "      <td>6</td>\n",
              "      <td>Escola A</td>\n",
              "      <td>66</td>\n",
              "      <td>79</td>\n",
              "      <td>0</td>\n",
              "      <td>Publica</td>\n",
              "      <td>2917</td>\n",
              "      <td>1910635</td>\n",
              "    </tr>\n",
              "    <tr>\n",
              "      <th>1</th>\n",
              "      <td>1</td>\n",
              "      <td>Paul Smith</td>\n",
              "      <td>M</td>\n",
              "      <td>9</td>\n",
              "      <td>Escola A</td>\n",
              "      <td>94</td>\n",
              "      <td>61</td>\n",
              "      <td>0</td>\n",
              "      <td>Publica</td>\n",
              "      <td>2917</td>\n",
              "      <td>1910635</td>\n",
              "    </tr>\n",
              "    <tr>\n",
              "      <th>2</th>\n",
              "      <td>2</td>\n",
              "      <td>John Rodriguez</td>\n",
              "      <td>M</td>\n",
              "      <td>9</td>\n",
              "      <td>Escola A</td>\n",
              "      <td>90</td>\n",
              "      <td>60</td>\n",
              "      <td>0</td>\n",
              "      <td>Publica</td>\n",
              "      <td>2917</td>\n",
              "      <td>1910635</td>\n",
              "    </tr>\n",
              "    <tr>\n",
              "      <th>3</th>\n",
              "      <td>3</td>\n",
              "      <td>Oliver Scott</td>\n",
              "      <td>M</td>\n",
              "      <td>9</td>\n",
              "      <td>Escola A</td>\n",
              "      <td>67</td>\n",
              "      <td>58</td>\n",
              "      <td>0</td>\n",
              "      <td>Publica</td>\n",
              "      <td>2917</td>\n",
              "      <td>1910635</td>\n",
              "    </tr>\n",
              "    <tr>\n",
              "      <th>4</th>\n",
              "      <td>4</td>\n",
              "      <td>William Ray</td>\n",
              "      <td>F</td>\n",
              "      <td>6</td>\n",
              "      <td>Escola A</td>\n",
              "      <td>97</td>\n",
              "      <td>84</td>\n",
              "      <td>0</td>\n",
              "      <td>Publica</td>\n",
              "      <td>2917</td>\n",
              "      <td>1910635</td>\n",
              "    </tr>\n",
              "    <tr>\n",
              "      <th>...</th>\n",
              "      <td>...</td>\n",
              "      <td>...</td>\n",
              "      <td>...</td>\n",
              "      <td>...</td>\n",
              "      <td>...</td>\n",
              "      <td>...</td>\n",
              "      <td>...</td>\n",
              "      <td>...</td>\n",
              "      <td>...</td>\n",
              "      <td>...</td>\n",
              "      <td>...</td>\n",
              "    </tr>\n",
              "    <tr>\n",
              "      <th>39155</th>\n",
              "      <td>39155</td>\n",
              "      <td>John Brooks</td>\n",
              "      <td>M</td>\n",
              "      <td>7</td>\n",
              "      <td>Escola O</td>\n",
              "      <td>92</td>\n",
              "      <td>98</td>\n",
              "      <td>14</td>\n",
              "      <td>Particular</td>\n",
              "      <td>1635</td>\n",
              "      <td>1043130</td>\n",
              "    </tr>\n",
              "    <tr>\n",
              "      <th>39156</th>\n",
              "      <td>39156</td>\n",
              "      <td>Stephanie Contreras</td>\n",
              "      <td>F</td>\n",
              "      <td>8</td>\n",
              "      <td>Escola O</td>\n",
              "      <td>79</td>\n",
              "      <td>95</td>\n",
              "      <td>14</td>\n",
              "      <td>Particular</td>\n",
              "      <td>1635</td>\n",
              "      <td>1043130</td>\n",
              "    </tr>\n",
              "    <tr>\n",
              "      <th>39157</th>\n",
              "      <td>39157</td>\n",
              "      <td>Kristen Gonzalez</td>\n",
              "      <td>F</td>\n",
              "      <td>6</td>\n",
              "      <td>Escola O</td>\n",
              "      <td>79</td>\n",
              "      <td>94</td>\n",
              "      <td>14</td>\n",
              "      <td>Particular</td>\n",
              "      <td>1635</td>\n",
              "      <td>1043130</td>\n",
              "    </tr>\n",
              "    <tr>\n",
              "      <th>39158</th>\n",
              "      <td>39158</td>\n",
              "      <td>Kari Holloway</td>\n",
              "      <td>F</td>\n",
              "      <td>7</td>\n",
              "      <td>Escola O</td>\n",
              "      <td>87</td>\n",
              "      <td>90</td>\n",
              "      <td>14</td>\n",
              "      <td>Particular</td>\n",
              "      <td>1635</td>\n",
              "      <td>1043130</td>\n",
              "    </tr>\n",
              "    <tr>\n",
              "      <th>39159</th>\n",
              "      <td>39159</td>\n",
              "      <td>Kimberly Cabrera</td>\n",
              "      <td>F</td>\n",
              "      <td>8</td>\n",
              "      <td>Escola O</td>\n",
              "      <td>85</td>\n",
              "      <td>72</td>\n",
              "      <td>14</td>\n",
              "      <td>Particular</td>\n",
              "      <td>1635</td>\n",
              "      <td>1043130</td>\n",
              "    </tr>\n",
              "  </tbody>\n",
              "</table>\n",
              "<p>39160 rows × 11 columns</p>\n",
              "</div>"
            ],
            "text/plain": [
              "       ID_Estudante       Nome_Estudante Genero  Serie Nome_Escola  \\\n",
              "0                 0        Kevin Bradley      M      6    Escola A   \n",
              "1                 1           Paul Smith      M      9    Escola A   \n",
              "2                 2       John Rodriguez      M      9    Escola A   \n",
              "3                 3         Oliver Scott      M      9    Escola A   \n",
              "4                 4          William Ray      F      6    Escola A   \n",
              "...             ...                  ...    ...    ...         ...   \n",
              "39155         39155          John Brooks      M      7    Escola O   \n",
              "39156         39156  Stephanie Contreras      F      8    Escola O   \n",
              "39157         39157     Kristen Gonzalez      F      6    Escola O   \n",
              "39158         39158        Kari Holloway      F      7    Escola O   \n",
              "39159         39159     Kimberly Cabrera      F      8    Escola O   \n",
              "\n",
              "       Nota_Redacao  Nota_Matematica  ID_Escola Tipo_Escola  Numero_Alunos  \\\n",
              "0                66               79          0     Publica           2917   \n",
              "1                94               61          0     Publica           2917   \n",
              "2                90               60          0     Publica           2917   \n",
              "3                67               58          0     Publica           2917   \n",
              "4                97               84          0     Publica           2917   \n",
              "...             ...              ...        ...         ...            ...   \n",
              "39155            92               98         14  Particular           1635   \n",
              "39156            79               95         14  Particular           1635   \n",
              "39157            79               94         14  Particular           1635   \n",
              "39158            87               90         14  Particular           1635   \n",
              "39159            85               72         14  Particular           1635   \n",
              "\n",
              "       Orcamento_Anual  \n",
              "0              1910635  \n",
              "1              1910635  \n",
              "2              1910635  \n",
              "3              1910635  \n",
              "4              1910635  \n",
              "...                ...  \n",
              "39155          1043130  \n",
              "39156          1043130  \n",
              "39157          1043130  \n",
              "39158          1043130  \n",
              "39159          1043130  \n",
              "\n",
              "[39160 rows x 11 columns]"
            ]
          },
          "execution_count": 14,
          "metadata": {},
          "output_type": "execute_result"
        }
      ],
      "source": [
        "data = pd.merge(estudantes,\n",
        "                escolas,\n",
        "                how='left', \n",
        "                on=[\"Nome_Escola\", \"Nome_Escola\"])\n",
        "\n",
        "data"
      ]
    },
    {
      "cell_type": "markdown",
      "metadata": {
        "id": "Pu9xcT_H1fHh"
      },
      "source": [
        "Obter as informações do novo conjunto de dados:"
      ]
    },
    {
      "cell_type": "code",
      "execution_count": 15,
      "metadata": {
        "id": "-iDNKh3a1fHh"
      },
      "outputs": [
        {
          "name": "stdout",
          "output_type": "stream",
          "text": [
            "<class 'pandas.core.frame.DataFrame'>\n",
            "RangeIndex: 39160 entries, 0 to 39159\n",
            "Data columns (total 11 columns):\n",
            " #   Column           Non-Null Count  Dtype \n",
            "---  ------           --------------  ----- \n",
            " 0   ID_Estudante     39160 non-null  int64 \n",
            " 1   Nome_Estudante   39160 non-null  object\n",
            " 2   Genero           39160 non-null  object\n",
            " 3   Serie            39160 non-null  int64 \n",
            " 4   Nome_Escola      39160 non-null  object\n",
            " 5   Nota_Redacao     39160 non-null  int64 \n",
            " 6   Nota_Matematica  39160 non-null  int64 \n",
            " 7   ID_Escola        39160 non-null  int64 \n",
            " 8   Tipo_Escola      39160 non-null  object\n",
            " 9   Numero_Alunos    39160 non-null  int64 \n",
            " 10  Orcamento_Anual  39160 non-null  int64 \n",
            "dtypes: int64(7), object(4)\n",
            "memory usage: 3.3+ MB\n"
          ]
        }
      ],
      "source": [
        "data.info()"
      ]
    },
    {
      "cell_type": "markdown",
      "metadata": {
        "id": "5ZLfDI6p1fHh"
      },
      "source": [
        "Entendendo as variáveis categóricas:"
      ]
    },
    {
      "cell_type": "code",
      "execution_count": 20,
      "metadata": {
        "id": "Nj6d-Bzs1fHh"
      },
      "outputs": [
        {
          "data": {
            "application/vnd.microsoft.datawrangler.viewer.v0+json": {
              "columns": [
                {
                  "name": "index",
                  "rawType": "int64",
                  "type": "integer"
                },
                {
                  "name": "Genero",
                  "rawType": "object",
                  "type": "string"
                },
                {
                  "name": "Serie",
                  "rawType": "int64",
                  "type": "integer"
                },
                {
                  "name": "Tipo_Escola",
                  "rawType": "object",
                  "type": "string"
                },
                {
                  "name": "Nome_Escola",
                  "rawType": "object",
                  "type": "string"
                }
              ],
              "conversionMethod": "pd.DataFrame",
              "ref": "e3850087-bb80-47bf-80a3-cf64474f4591",
              "rows": [
                [
                  "0",
                  "M",
                  "6",
                  "Publica",
                  "Escola A"
                ],
                [
                  "1",
                  "M",
                  "9",
                  "Publica",
                  "Escola A"
                ],
                [
                  "2",
                  "M",
                  "9",
                  "Publica",
                  "Escola A"
                ],
                [
                  "3",
                  "M",
                  "9",
                  "Publica",
                  "Escola A"
                ],
                [
                  "4",
                  "F",
                  "6",
                  "Publica",
                  "Escola A"
                ],
                [
                  "5",
                  "M",
                  "6",
                  "Publica",
                  "Escola A"
                ],
                [
                  "6",
                  "F",
                  "8",
                  "Publica",
                  "Escola A"
                ],
                [
                  "7",
                  "F",
                  "9",
                  "Publica",
                  "Escola A"
                ],
                [
                  "8",
                  "M",
                  "7",
                  "Publica",
                  "Escola A"
                ],
                [
                  "9",
                  "M",
                  "7",
                  "Publica",
                  "Escola A"
                ],
                [
                  "10",
                  "M",
                  "7",
                  "Publica",
                  "Escola A"
                ],
                [
                  "11",
                  "M",
                  "7",
                  "Publica",
                  "Escola A"
                ],
                [
                  "12",
                  "F",
                  "6",
                  "Publica",
                  "Escola A"
                ],
                [
                  "13",
                  "M",
                  "6",
                  "Publica",
                  "Escola A"
                ],
                [
                  "14",
                  "F",
                  "7",
                  "Publica",
                  "Escola A"
                ],
                [
                  "15",
                  "M",
                  "8",
                  "Publica",
                  "Escola A"
                ],
                [
                  "16",
                  "M",
                  "6",
                  "Publica",
                  "Escola A"
                ],
                [
                  "17",
                  "F",
                  "6",
                  "Publica",
                  "Escola A"
                ],
                [
                  "18",
                  "M",
                  "6",
                  "Publica",
                  "Escola A"
                ],
                [
                  "19",
                  "F",
                  "6",
                  "Publica",
                  "Escola A"
                ],
                [
                  "20",
                  "F",
                  "7",
                  "Publica",
                  "Escola A"
                ],
                [
                  "21",
                  "F",
                  "7",
                  "Publica",
                  "Escola A"
                ],
                [
                  "22",
                  "F",
                  "8",
                  "Publica",
                  "Escola A"
                ],
                [
                  "23",
                  "M",
                  "6",
                  "Publica",
                  "Escola A"
                ],
                [
                  "24",
                  "F",
                  "8",
                  "Publica",
                  "Escola A"
                ],
                [
                  "25",
                  "M",
                  "6",
                  "Publica",
                  "Escola A"
                ],
                [
                  "26",
                  "F",
                  "6",
                  "Publica",
                  "Escola A"
                ],
                [
                  "27",
                  "F",
                  "7",
                  "Publica",
                  "Escola A"
                ],
                [
                  "28",
                  "F",
                  "8",
                  "Publica",
                  "Escola A"
                ],
                [
                  "29",
                  "F",
                  "9",
                  "Publica",
                  "Escola A"
                ],
                [
                  "30",
                  "M",
                  "6",
                  "Publica",
                  "Escola A"
                ],
                [
                  "31",
                  "M",
                  "7",
                  "Publica",
                  "Escola A"
                ],
                [
                  "32",
                  "F",
                  "8",
                  "Publica",
                  "Escola A"
                ],
                [
                  "33",
                  "F",
                  "9",
                  "Publica",
                  "Escola A"
                ],
                [
                  "34",
                  "M",
                  "8",
                  "Publica",
                  "Escola A"
                ],
                [
                  "35",
                  "M",
                  "7",
                  "Publica",
                  "Escola A"
                ],
                [
                  "36",
                  "M",
                  "7",
                  "Publica",
                  "Escola A"
                ],
                [
                  "37",
                  "M",
                  "7",
                  "Publica",
                  "Escola A"
                ],
                [
                  "38",
                  "F",
                  "9",
                  "Publica",
                  "Escola A"
                ],
                [
                  "39",
                  "M",
                  "6",
                  "Publica",
                  "Escola A"
                ],
                [
                  "40",
                  "M",
                  "6",
                  "Publica",
                  "Escola A"
                ],
                [
                  "41",
                  "F",
                  "8",
                  "Publica",
                  "Escola A"
                ],
                [
                  "42",
                  "M",
                  "6",
                  "Publica",
                  "Escola A"
                ],
                [
                  "43",
                  "F",
                  "6",
                  "Publica",
                  "Escola A"
                ],
                [
                  "44",
                  "F",
                  "7",
                  "Publica",
                  "Escola A"
                ],
                [
                  "45",
                  "F",
                  "8",
                  "Publica",
                  "Escola A"
                ],
                [
                  "46",
                  "F",
                  "9",
                  "Publica",
                  "Escola A"
                ],
                [
                  "47",
                  "F",
                  "8",
                  "Publica",
                  "Escola A"
                ],
                [
                  "48",
                  "F",
                  "6",
                  "Publica",
                  "Escola A"
                ],
                [
                  "49",
                  "F",
                  "7",
                  "Publica",
                  "Escola A"
                ]
              ],
              "shape": {
                "columns": 4,
                "rows": 39160
              }
            },
            "text/html": [
              "<div>\n",
              "<style scoped>\n",
              "    .dataframe tbody tr th:only-of-type {\n",
              "        vertical-align: middle;\n",
              "    }\n",
              "\n",
              "    .dataframe tbody tr th {\n",
              "        vertical-align: top;\n",
              "    }\n",
              "\n",
              "    .dataframe thead th {\n",
              "        text-align: right;\n",
              "    }\n",
              "</style>\n",
              "<table border=\"1\" class=\"dataframe\">\n",
              "  <thead>\n",
              "    <tr style=\"text-align: right;\">\n",
              "      <th></th>\n",
              "      <th>Genero</th>\n",
              "      <th>Serie</th>\n",
              "      <th>Tipo_Escola</th>\n",
              "      <th>Nome_Escola</th>\n",
              "    </tr>\n",
              "  </thead>\n",
              "  <tbody>\n",
              "    <tr>\n",
              "      <th>0</th>\n",
              "      <td>M</td>\n",
              "      <td>6</td>\n",
              "      <td>Publica</td>\n",
              "      <td>Escola A</td>\n",
              "    </tr>\n",
              "    <tr>\n",
              "      <th>1</th>\n",
              "      <td>M</td>\n",
              "      <td>9</td>\n",
              "      <td>Publica</td>\n",
              "      <td>Escola A</td>\n",
              "    </tr>\n",
              "    <tr>\n",
              "      <th>2</th>\n",
              "      <td>M</td>\n",
              "      <td>9</td>\n",
              "      <td>Publica</td>\n",
              "      <td>Escola A</td>\n",
              "    </tr>\n",
              "    <tr>\n",
              "      <th>3</th>\n",
              "      <td>M</td>\n",
              "      <td>9</td>\n",
              "      <td>Publica</td>\n",
              "      <td>Escola A</td>\n",
              "    </tr>\n",
              "    <tr>\n",
              "      <th>4</th>\n",
              "      <td>F</td>\n",
              "      <td>6</td>\n",
              "      <td>Publica</td>\n",
              "      <td>Escola A</td>\n",
              "    </tr>\n",
              "    <tr>\n",
              "      <th>...</th>\n",
              "      <td>...</td>\n",
              "      <td>...</td>\n",
              "      <td>...</td>\n",
              "      <td>...</td>\n",
              "    </tr>\n",
              "    <tr>\n",
              "      <th>39155</th>\n",
              "      <td>M</td>\n",
              "      <td>7</td>\n",
              "      <td>Particular</td>\n",
              "      <td>Escola O</td>\n",
              "    </tr>\n",
              "    <tr>\n",
              "      <th>39156</th>\n",
              "      <td>F</td>\n",
              "      <td>8</td>\n",
              "      <td>Particular</td>\n",
              "      <td>Escola O</td>\n",
              "    </tr>\n",
              "    <tr>\n",
              "      <th>39157</th>\n",
              "      <td>F</td>\n",
              "      <td>6</td>\n",
              "      <td>Particular</td>\n",
              "      <td>Escola O</td>\n",
              "    </tr>\n",
              "    <tr>\n",
              "      <th>39158</th>\n",
              "      <td>F</td>\n",
              "      <td>7</td>\n",
              "      <td>Particular</td>\n",
              "      <td>Escola O</td>\n",
              "    </tr>\n",
              "    <tr>\n",
              "      <th>39159</th>\n",
              "      <td>F</td>\n",
              "      <td>8</td>\n",
              "      <td>Particular</td>\n",
              "      <td>Escola O</td>\n",
              "    </tr>\n",
              "  </tbody>\n",
              "</table>\n",
              "<p>39160 rows × 4 columns</p>\n",
              "</div>"
            ],
            "text/plain": [
              "      Genero  Serie Tipo_Escola Nome_Escola\n",
              "0          M      6     Publica    Escola A\n",
              "1          M      9     Publica    Escola A\n",
              "2          M      9     Publica    Escola A\n",
              "3          M      9     Publica    Escola A\n",
              "4          F      6     Publica    Escola A\n",
              "...      ...    ...         ...         ...\n",
              "39155      M      7  Particular    Escola O\n",
              "39156      F      8  Particular    Escola O\n",
              "39157      F      6  Particular    Escola O\n",
              "39158      F      7  Particular    Escola O\n",
              "39159      F      8  Particular    Escola O\n",
              "\n",
              "[39160 rows x 4 columns]"
            ]
          },
          "execution_count": 20,
          "metadata": {},
          "output_type": "execute_result"
        }
      ],
      "source": [
        "categoricas = data[[\"Genero\", \"Serie\", \"Tipo_Escola\", \"Nome_Escola\"]]\n",
        "\n",
        "categoricas"
      ]
    },
    {
      "cell_type": "code",
      "execution_count": 21,
      "metadata": {},
      "outputs": [
        {
          "data": {
            "application/vnd.microsoft.datawrangler.viewer.v0+json": {
              "columns": [
                {
                  "name": "index",
                  "rawType": "object",
                  "type": "string"
                },
                {
                  "name": "Serie",
                  "rawType": "float64",
                  "type": "float"
                }
              ],
              "conversionMethod": "pd.DataFrame",
              "ref": "8b55ad33-f56c-41b7-8caa-6247f64a0c49",
              "rows": [
                [
                  "count",
                  "39160.0"
                ],
                [
                  "mean",
                  "7.359550561797753"
                ],
                [
                  "std",
                  "1.1027955035133254"
                ],
                [
                  "min",
                  "6.0"
                ],
                [
                  "25%",
                  "6.0"
                ],
                [
                  "50%",
                  "7.0"
                ],
                [
                  "75%",
                  "8.0"
                ],
                [
                  "max",
                  "9.0"
                ]
              ],
              "shape": {
                "columns": 1,
                "rows": 8
              }
            },
            "text/html": [
              "<div>\n",
              "<style scoped>\n",
              "    .dataframe tbody tr th:only-of-type {\n",
              "        vertical-align: middle;\n",
              "    }\n",
              "\n",
              "    .dataframe tbody tr th {\n",
              "        vertical-align: top;\n",
              "    }\n",
              "\n",
              "    .dataframe thead th {\n",
              "        text-align: right;\n",
              "    }\n",
              "</style>\n",
              "<table border=\"1\" class=\"dataframe\">\n",
              "  <thead>\n",
              "    <tr style=\"text-align: right;\">\n",
              "      <th></th>\n",
              "      <th>Serie</th>\n",
              "    </tr>\n",
              "  </thead>\n",
              "  <tbody>\n",
              "    <tr>\n",
              "      <th>count</th>\n",
              "      <td>39160.000000</td>\n",
              "    </tr>\n",
              "    <tr>\n",
              "      <th>mean</th>\n",
              "      <td>7.359551</td>\n",
              "    </tr>\n",
              "    <tr>\n",
              "      <th>std</th>\n",
              "      <td>1.102796</td>\n",
              "    </tr>\n",
              "    <tr>\n",
              "      <th>min</th>\n",
              "      <td>6.000000</td>\n",
              "    </tr>\n",
              "    <tr>\n",
              "      <th>25%</th>\n",
              "      <td>6.000000</td>\n",
              "    </tr>\n",
              "    <tr>\n",
              "      <th>50%</th>\n",
              "      <td>7.000000</td>\n",
              "    </tr>\n",
              "    <tr>\n",
              "      <th>75%</th>\n",
              "      <td>8.000000</td>\n",
              "    </tr>\n",
              "    <tr>\n",
              "      <th>max</th>\n",
              "      <td>9.000000</td>\n",
              "    </tr>\n",
              "  </tbody>\n",
              "</table>\n",
              "</div>"
            ],
            "text/plain": [
              "              Serie\n",
              "count  39160.000000\n",
              "mean       7.359551\n",
              "std        1.102796\n",
              "min        6.000000\n",
              "25%        6.000000\n",
              "50%        7.000000\n",
              "75%        8.000000\n",
              "max        9.000000"
            ]
          },
          "execution_count": 21,
          "metadata": {},
          "output_type": "execute_result"
        }
      ],
      "source": [
        "categoricas.describe()"
      ]
    },
    {
      "cell_type": "code",
      "execution_count": 53,
      "metadata": {},
      "outputs": [
        {
          "data": {
            "application/vnd.microsoft.datawrangler.viewer.v0+json": {
              "columns": [
                {
                  "name": "index",
                  "rawType": "object",
                  "type": "string"
                },
                {
                  "name": "Genero",
                  "rawType": "object",
                  "type": "unknown"
                },
                {
                  "name": "Tipo_Escola",
                  "rawType": "object",
                  "type": "unknown"
                },
                {
                  "name": "Nome_Escola",
                  "rawType": "object",
                  "type": "unknown"
                }
              ],
              "conversionMethod": "pd.DataFrame",
              "ref": "9b2ed0f0-bb18-41ec-bbb3-2bdeaf4609fe",
              "rows": [
                [
                  "count",
                  "39160",
                  "39160",
                  "39160"
                ],
                [
                  "unique",
                  "2",
                  "2",
                  "15"
                ],
                [
                  "top",
                  "F",
                  "Publica",
                  "Escola H"
                ],
                [
                  "freq",
                  "19728",
                  "26976",
                  "4976"
                ]
              ],
              "shape": {
                "columns": 3,
                "rows": 4
              }
            },
            "text/html": [
              "<div>\n",
              "<style scoped>\n",
              "    .dataframe tbody tr th:only-of-type {\n",
              "        vertical-align: middle;\n",
              "    }\n",
              "\n",
              "    .dataframe tbody tr th {\n",
              "        vertical-align: top;\n",
              "    }\n",
              "\n",
              "    .dataframe thead th {\n",
              "        text-align: right;\n",
              "    }\n",
              "</style>\n",
              "<table border=\"1\" class=\"dataframe\">\n",
              "  <thead>\n",
              "    <tr style=\"text-align: right;\">\n",
              "      <th></th>\n",
              "      <th>Genero</th>\n",
              "      <th>Tipo_Escola</th>\n",
              "      <th>Nome_Escola</th>\n",
              "    </tr>\n",
              "  </thead>\n",
              "  <tbody>\n",
              "    <tr>\n",
              "      <th>count</th>\n",
              "      <td>39160</td>\n",
              "      <td>39160</td>\n",
              "      <td>39160</td>\n",
              "    </tr>\n",
              "    <tr>\n",
              "      <th>unique</th>\n",
              "      <td>2</td>\n",
              "      <td>2</td>\n",
              "      <td>15</td>\n",
              "    </tr>\n",
              "    <tr>\n",
              "      <th>top</th>\n",
              "      <td>F</td>\n",
              "      <td>Publica</td>\n",
              "      <td>Escola H</td>\n",
              "    </tr>\n",
              "    <tr>\n",
              "      <th>freq</th>\n",
              "      <td>19728</td>\n",
              "      <td>26976</td>\n",
              "      <td>4976</td>\n",
              "    </tr>\n",
              "  </tbody>\n",
              "</table>\n",
              "</div>"
            ],
            "text/plain": [
              "       Genero Tipo_Escola Nome_Escola\n",
              "count   39160       39160       39160\n",
              "unique      2           2          15\n",
              "top         F     Publica    Escola H\n",
              "freq    19728       26976        4976"
            ]
          },
          "execution_count": 53,
          "metadata": {},
          "output_type": "execute_result"
        }
      ],
      "source": [
        "categoricas.describe(include= ['O'])"
      ]
    },
    {
      "cell_type": "code",
      "execution_count": 23,
      "metadata": {},
      "outputs": [
        {
          "data": {
            "text/plain": [
              "array(['M', 'F'], dtype=object)"
            ]
          },
          "execution_count": 23,
          "metadata": {},
          "output_type": "execute_result"
        }
      ],
      "source": [
        "data[\"Genero\"].unique()"
      ]
    },
    {
      "cell_type": "code",
      "execution_count": 24,
      "metadata": {},
      "outputs": [
        {
          "data": {
            "text/plain": [
              "array([6, 9, 8, 7])"
            ]
          },
          "execution_count": 24,
          "metadata": {},
          "output_type": "execute_result"
        }
      ],
      "source": [
        "data[\"Serie\"].unique()"
      ]
    },
    {
      "cell_type": "code",
      "execution_count": 25,
      "metadata": {},
      "outputs": [
        {
          "data": {
            "text/plain": [
              "array(['Publica', 'Particular'], dtype=object)"
            ]
          },
          "execution_count": 25,
          "metadata": {},
          "output_type": "execute_result"
        }
      ],
      "source": [
        "data[\"Tipo_Escola\"].unique()"
      ]
    },
    {
      "cell_type": "markdown",
      "metadata": {
        "id": "JD--biQX1fHh"
      },
      "source": [
        "Algumas perguntas:\n",
        "\n",
        "Qual o orçamento total das escolas?\n",
        "\n",
        "Qual a nota média dos alunos nas disciplinas analisadas?\n"
      ]
    },
    {
      "cell_type": "code",
      "execution_count": 29,
      "metadata": {
        "id": "ndz2i7U21fHh"
      },
      "outputs": [
        {
          "name": "stdout",
          "output_type": "stream",
          "text": [
            "Nota média matemática:  78.98493360572012\n"
          ]
        }
      ],
      "source": [
        "print(\"Nota média matemática: \", estudantes['Nota_Matematica'].sum()/len(estudantes))"
      ]
    },
    {
      "cell_type": "code",
      "execution_count": 31,
      "metadata": {},
      "outputs": [
        {
          "name": "stdout",
          "output_type": "stream",
          "text": [
            "Nota média redação:  81.87574055158325\n"
          ]
        }
      ],
      "source": [
        "print(\"Nota média redação: \", estudantes['Nota_Redacao'].sum()/len(estudantes))"
      ]
    },
    {
      "cell_type": "code",
      "execution_count": 28,
      "metadata": {},
      "outputs": [
        {
          "data": {
            "text/plain": [
              "np.int64(24649428)"
            ]
          },
          "execution_count": 28,
          "metadata": {},
          "output_type": "execute_result"
        }
      ],
      "source": [
        "escolas[\"Orcamento_Anual\"].sum()"
      ]
    },
    {
      "cell_type": "markdown",
      "metadata": {
        "id": "6riU_bsL1fHh"
      },
      "source": [
        "Vamos considerar que alto desempenho sejam notas maiores que 90. Quantos alunos ficaram com nota superior a 90 em redação? E qual o percentual?"
      ]
    },
    {
      "cell_type": "code",
      "execution_count": 37,
      "metadata": {
        "id": "YZpSpsk41fHh"
      },
      "outputs": [
        {
          "data": {
            "text/plain": [
              "9973"
            ]
          },
          "execution_count": 37,
          "metadata": {},
          "output_type": "execute_result"
        }
      ],
      "source": [
        "len(estudantes[estudantes['Nota_Redacao'] > 90])"
      ]
    },
    {
      "cell_type": "code",
      "execution_count": 38,
      "metadata": {},
      "outputs": [
        {
          "name": "stdout",
          "output_type": "stream",
          "text": [
            "25.47 %\n"
          ]
        }
      ],
      "source": [
        "print(round(len(estudantes[estudantes['Nota_Redacao'] > 90])/len(estudantes) * 100,2), \"%\")"
      ]
    },
    {
      "cell_type": "markdown",
      "metadata": {
        "id": "VIONpXdR1fHh"
      },
      "source": [
        "Quantos eram de escola pública?"
      ]
    },
    {
      "cell_type": "code",
      "execution_count": 42,
      "metadata": {
        "id": "ytTWIzw07YT_"
      },
      "outputs": [
        {
          "data": {
            "application/vnd.microsoft.datawrangler.viewer.v0+json": {
              "columns": [
                {
                  "name": "index",
                  "rawType": "int64",
                  "type": "integer"
                },
                {
                  "name": "ID_Estudante",
                  "rawType": "int64",
                  "type": "integer"
                },
                {
                  "name": "Nome_Estudante",
                  "rawType": "object",
                  "type": "string"
                },
                {
                  "name": "Genero",
                  "rawType": "object",
                  "type": "string"
                },
                {
                  "name": "Serie",
                  "rawType": "int64",
                  "type": "integer"
                },
                {
                  "name": "Nome_Escola",
                  "rawType": "object",
                  "type": "string"
                },
                {
                  "name": "Nota_Redacao",
                  "rawType": "int64",
                  "type": "integer"
                },
                {
                  "name": "Nota_Matematica",
                  "rawType": "int64",
                  "type": "integer"
                },
                {
                  "name": "ID_Escola",
                  "rawType": "int64",
                  "type": "integer"
                },
                {
                  "name": "Tipo_Escola",
                  "rawType": "object",
                  "type": "string"
                },
                {
                  "name": "Numero_Alunos",
                  "rawType": "int64",
                  "type": "integer"
                },
                {
                  "name": "Orcamento_Anual",
                  "rawType": "int64",
                  "type": "integer"
                }
              ],
              "conversionMethod": "pd.DataFrame",
              "ref": "62b90058-c571-4dc3-a8ae-cc00db4076fb",
              "rows": [
                [
                  "1",
                  "1",
                  "Paul Smith",
                  "M",
                  "9",
                  "Escola A",
                  "94",
                  "61",
                  "0",
                  "Publica",
                  "2917",
                  "1910635"
                ],
                [
                  "4",
                  "4",
                  "William Ray",
                  "F",
                  "6",
                  "Escola A",
                  "97",
                  "84",
                  "0",
                  "Publica",
                  "2917",
                  "1910635"
                ],
                [
                  "5",
                  "5",
                  "James Miranda",
                  "M",
                  "6",
                  "Escola A",
                  "94",
                  "94",
                  "0",
                  "Publica",
                  "2917",
                  "1910635"
                ],
                [
                  "7",
                  "7",
                  "Mason Baker",
                  "F",
                  "9",
                  "Escola A",
                  "96",
                  "69",
                  "0",
                  "Publica",
                  "2917",
                  "1910635"
                ],
                [
                  "8",
                  "8",
                  "Ethan Roth",
                  "M",
                  "7",
                  "Escola A",
                  "95",
                  "87",
                  "0",
                  "Publica",
                  "2917",
                  "1910635"
                ],
                [
                  "9",
                  "9",
                  "Jacob Greene",
                  "M",
                  "7",
                  "Escola A",
                  "96",
                  "84",
                  "0",
                  "Publica",
                  "2917",
                  "1910635"
                ],
                [
                  "15",
                  "15",
                  "Owen Carson",
                  "M",
                  "8",
                  "Escola A",
                  "94",
                  "88",
                  "0",
                  "Publica",
                  "2917",
                  "1910635"
                ],
                [
                  "20",
                  "20",
                  "Carter Davis",
                  "F",
                  "7",
                  "Escola A",
                  "91",
                  "89",
                  "0",
                  "Publica",
                  "2917",
                  "1910635"
                ],
                [
                  "22",
                  "22",
                  "Julian Stewart",
                  "F",
                  "8",
                  "Escola A",
                  "99",
                  "84",
                  "0",
                  "Publica",
                  "2917",
                  "1910635"
                ],
                [
                  "25",
                  "25",
                  "Cesar Morris",
                  "M",
                  "6",
                  "Escola A",
                  "92",
                  "70",
                  "0",
                  "Publica",
                  "2917",
                  "1910635"
                ],
                [
                  "30",
                  "30",
                  "Bobby Harris",
                  "M",
                  "6",
                  "Escola A",
                  "94",
                  "99",
                  "0",
                  "Publica",
                  "2917",
                  "1910635"
                ],
                [
                  "31",
                  "31",
                  "Brian Fernandez",
                  "M",
                  "7",
                  "Escola A",
                  "97",
                  "65",
                  "0",
                  "Publica",
                  "2917",
                  "1910635"
                ],
                [
                  "32",
                  "32",
                  "Candace Phelps",
                  "F",
                  "8",
                  "Escola A",
                  "93",
                  "90",
                  "0",
                  "Publica",
                  "2917",
                  "1910635"
                ],
                [
                  "33",
                  "33",
                  "Amy Gonzalez",
                  "F",
                  "9",
                  "Escola A",
                  "95",
                  "68",
                  "0",
                  "Publica",
                  "2917",
                  "1910635"
                ],
                [
                  "35",
                  "35",
                  "Benjamin Carlson",
                  "M",
                  "7",
                  "Escola A",
                  "99",
                  "61",
                  "0",
                  "Publica",
                  "2917",
                  "1910635"
                ],
                [
                  "51",
                  "51",
                  "Jennifer Hess",
                  "F",
                  "8",
                  "Escola A",
                  "91",
                  "56",
                  "0",
                  "Publica",
                  "2917",
                  "1910635"
                ],
                [
                  "53",
                  "53",
                  "Jon Smith",
                  "M",
                  "6",
                  "Escola A",
                  "96",
                  "69",
                  "0",
                  "Publica",
                  "2917",
                  "1910635"
                ],
                [
                  "55",
                  "55",
                  "Jerry Gordon",
                  "M",
                  "9",
                  "Escola A",
                  "95",
                  "71",
                  "0",
                  "Publica",
                  "2917",
                  "1910635"
                ],
                [
                  "57",
                  "57",
                  "Madeline Snyder MD",
                  "F",
                  "6",
                  "Escola A",
                  "97",
                  "56",
                  "0",
                  "Publica",
                  "2917",
                  "1910635"
                ],
                [
                  "71",
                  "71",
                  "Breanna Taylor",
                  "F",
                  "7",
                  "Escola A",
                  "93",
                  "68",
                  "0",
                  "Publica",
                  "2917",
                  "1910635"
                ],
                [
                  "78",
                  "78",
                  "Jason Thompson",
                  "M",
                  "9",
                  "Escola A",
                  "99",
                  "57",
                  "0",
                  "Publica",
                  "2917",
                  "1910635"
                ],
                [
                  "81",
                  "81",
                  "Lisa Frye",
                  "F",
                  "9",
                  "Escola A",
                  "94",
                  "73",
                  "0",
                  "Publica",
                  "2917",
                  "1910635"
                ],
                [
                  "85",
                  "85",
                  "Tina Lynch",
                  "F",
                  "7",
                  "Escola A",
                  "94",
                  "60",
                  "0",
                  "Publica",
                  "2917",
                  "1910635"
                ],
                [
                  "86",
                  "86",
                  "Leah Benitez",
                  "F",
                  "7",
                  "Escola A",
                  "93",
                  "84",
                  "0",
                  "Publica",
                  "2917",
                  "1910635"
                ],
                [
                  "90",
                  "90",
                  "Ronald Garcia",
                  "M",
                  "6",
                  "Escola A",
                  "99",
                  "86",
                  "0",
                  "Publica",
                  "2917",
                  "1910635"
                ],
                [
                  "91",
                  "91",
                  "Mark Cherry",
                  "M",
                  "7",
                  "Escola A",
                  "96",
                  "98",
                  "0",
                  "Publica",
                  "2917",
                  "1910635"
                ],
                [
                  "98",
                  "98",
                  "Virginia Ramirez MD",
                  "F",
                  "7",
                  "Escola A",
                  "99",
                  "89",
                  "0",
                  "Publica",
                  "2917",
                  "1910635"
                ],
                [
                  "122",
                  "122",
                  "Nicole Miller",
                  "F",
                  "7",
                  "Escola A",
                  "98",
                  "57",
                  "0",
                  "Publica",
                  "2917",
                  "1910635"
                ],
                [
                  "126",
                  "126",
                  "Jennifer Lee",
                  "F",
                  "9",
                  "Escola A",
                  "93",
                  "66",
                  "0",
                  "Publica",
                  "2917",
                  "1910635"
                ],
                [
                  "133",
                  "133",
                  "Marisa Lowe",
                  "F",
                  "6",
                  "Escola A",
                  "95",
                  "95",
                  "0",
                  "Publica",
                  "2917",
                  "1910635"
                ],
                [
                  "139",
                  "139",
                  "Ann Blake",
                  "F",
                  "8",
                  "Escola A",
                  "97",
                  "75",
                  "0",
                  "Publica",
                  "2917",
                  "1910635"
                ],
                [
                  "141",
                  "141",
                  "Steven Houston",
                  "M",
                  "6",
                  "Escola A",
                  "99",
                  "71",
                  "0",
                  "Publica",
                  "2917",
                  "1910635"
                ],
                [
                  "144",
                  "144",
                  "Jennifer Mora",
                  "F",
                  "7",
                  "Escola A",
                  "98",
                  "73",
                  "0",
                  "Publica",
                  "2917",
                  "1910635"
                ],
                [
                  "146",
                  "146",
                  "Darryl Brown",
                  "M",
                  "7",
                  "Escola A",
                  "98",
                  "90",
                  "0",
                  "Publica",
                  "2917",
                  "1910635"
                ],
                [
                  "166",
                  "166",
                  "Ryan Cox",
                  "M",
                  "9",
                  "Escola A",
                  "95",
                  "72",
                  "0",
                  "Publica",
                  "2917",
                  "1910635"
                ],
                [
                  "169",
                  "169",
                  "Aaron West",
                  "M",
                  "7",
                  "Escola A",
                  "98",
                  "67",
                  "0",
                  "Publica",
                  "2917",
                  "1910635"
                ],
                [
                  "172",
                  "172",
                  "Sarah Miller",
                  "F",
                  "7",
                  "Escola A",
                  "94",
                  "71",
                  "0",
                  "Publica",
                  "2917",
                  "1910635"
                ],
                [
                  "173",
                  "173",
                  "Samantha Thomas",
                  "F",
                  "7",
                  "Escola A",
                  "92",
                  "62",
                  "0",
                  "Publica",
                  "2917",
                  "1910635"
                ],
                [
                  "178",
                  "178",
                  "Donna Wagner",
                  "F",
                  "7",
                  "Escola A",
                  "95",
                  "61",
                  "0",
                  "Publica",
                  "2917",
                  "1910635"
                ],
                [
                  "181",
                  "181",
                  "Matthew Anderson",
                  "M",
                  "8",
                  "Escola A",
                  "92",
                  "99",
                  "0",
                  "Publica",
                  "2917",
                  "1910635"
                ],
                [
                  "185",
                  "185",
                  "Mary Fox",
                  "F",
                  "8",
                  "Escola A",
                  "94",
                  "92",
                  "0",
                  "Publica",
                  "2917",
                  "1910635"
                ],
                [
                  "186",
                  "186",
                  "Joseph Perkins",
                  "M",
                  "7",
                  "Escola A",
                  "96",
                  "76",
                  "0",
                  "Publica",
                  "2917",
                  "1910635"
                ],
                [
                  "191",
                  "191",
                  "Jordan Beasley",
                  "F",
                  "7",
                  "Escola A",
                  "96",
                  "59",
                  "0",
                  "Publica",
                  "2917",
                  "1910635"
                ],
                [
                  "201",
                  "201",
                  "James Ferguson",
                  "M",
                  "6",
                  "Escola A",
                  "96",
                  "66",
                  "0",
                  "Publica",
                  "2917",
                  "1910635"
                ],
                [
                  "205",
                  "205",
                  "Jessica Warner",
                  "F",
                  "8",
                  "Escola A",
                  "94",
                  "83",
                  "0",
                  "Publica",
                  "2917",
                  "1910635"
                ],
                [
                  "206",
                  "206",
                  "Dorothy Burke",
                  "F",
                  "8",
                  "Escola A",
                  "91",
                  "92",
                  "0",
                  "Publica",
                  "2917",
                  "1910635"
                ],
                [
                  "217",
                  "217",
                  "Joseph Jacobs",
                  "M",
                  "8",
                  "Escola A",
                  "96",
                  "68",
                  "0",
                  "Publica",
                  "2917",
                  "1910635"
                ],
                [
                  "222",
                  "222",
                  "Nicole Randall",
                  "F",
                  "6",
                  "Escola A",
                  "94",
                  "78",
                  "0",
                  "Publica",
                  "2917",
                  "1910635"
                ],
                [
                  "224",
                  "224",
                  "Anthony Alvarez",
                  "M",
                  "7",
                  "Escola A",
                  "93",
                  "90",
                  "0",
                  "Publica",
                  "2917",
                  "1910635"
                ],
                [
                  "229",
                  "229",
                  "Norman Thompson",
                  "M",
                  "6",
                  "Escola A",
                  "99",
                  "78",
                  "0",
                  "Publica",
                  "2917",
                  "1910635"
                ]
              ],
              "shape": {
                "columns": 11,
                "rows": 6478
              }
            },
            "text/html": [
              "<div>\n",
              "<style scoped>\n",
              "    .dataframe tbody tr th:only-of-type {\n",
              "        vertical-align: middle;\n",
              "    }\n",
              "\n",
              "    .dataframe tbody tr th {\n",
              "        vertical-align: top;\n",
              "    }\n",
              "\n",
              "    .dataframe thead th {\n",
              "        text-align: right;\n",
              "    }\n",
              "</style>\n",
              "<table border=\"1\" class=\"dataframe\">\n",
              "  <thead>\n",
              "    <tr style=\"text-align: right;\">\n",
              "      <th></th>\n",
              "      <th>ID_Estudante</th>\n",
              "      <th>Nome_Estudante</th>\n",
              "      <th>Genero</th>\n",
              "      <th>Serie</th>\n",
              "      <th>Nome_Escola</th>\n",
              "      <th>Nota_Redacao</th>\n",
              "      <th>Nota_Matematica</th>\n",
              "      <th>ID_Escola</th>\n",
              "      <th>Tipo_Escola</th>\n",
              "      <th>Numero_Alunos</th>\n",
              "      <th>Orcamento_Anual</th>\n",
              "    </tr>\n",
              "  </thead>\n",
              "  <tbody>\n",
              "    <tr>\n",
              "      <th>1</th>\n",
              "      <td>1</td>\n",
              "      <td>Paul Smith</td>\n",
              "      <td>M</td>\n",
              "      <td>9</td>\n",
              "      <td>Escola A</td>\n",
              "      <td>94</td>\n",
              "      <td>61</td>\n",
              "      <td>0</td>\n",
              "      <td>Publica</td>\n",
              "      <td>2917</td>\n",
              "      <td>1910635</td>\n",
              "    </tr>\n",
              "    <tr>\n",
              "      <th>4</th>\n",
              "      <td>4</td>\n",
              "      <td>William Ray</td>\n",
              "      <td>F</td>\n",
              "      <td>6</td>\n",
              "      <td>Escola A</td>\n",
              "      <td>97</td>\n",
              "      <td>84</td>\n",
              "      <td>0</td>\n",
              "      <td>Publica</td>\n",
              "      <td>2917</td>\n",
              "      <td>1910635</td>\n",
              "    </tr>\n",
              "    <tr>\n",
              "      <th>5</th>\n",
              "      <td>5</td>\n",
              "      <td>James Miranda</td>\n",
              "      <td>M</td>\n",
              "      <td>6</td>\n",
              "      <td>Escola A</td>\n",
              "      <td>94</td>\n",
              "      <td>94</td>\n",
              "      <td>0</td>\n",
              "      <td>Publica</td>\n",
              "      <td>2917</td>\n",
              "      <td>1910635</td>\n",
              "    </tr>\n",
              "    <tr>\n",
              "      <th>7</th>\n",
              "      <td>7</td>\n",
              "      <td>Mason Baker</td>\n",
              "      <td>F</td>\n",
              "      <td>9</td>\n",
              "      <td>Escola A</td>\n",
              "      <td>96</td>\n",
              "      <td>69</td>\n",
              "      <td>0</td>\n",
              "      <td>Publica</td>\n",
              "      <td>2917</td>\n",
              "      <td>1910635</td>\n",
              "    </tr>\n",
              "    <tr>\n",
              "      <th>8</th>\n",
              "      <td>8</td>\n",
              "      <td>Ethan Roth</td>\n",
              "      <td>M</td>\n",
              "      <td>7</td>\n",
              "      <td>Escola A</td>\n",
              "      <td>95</td>\n",
              "      <td>87</td>\n",
              "      <td>0</td>\n",
              "      <td>Publica</td>\n",
              "      <td>2917</td>\n",
              "      <td>1910635</td>\n",
              "    </tr>\n",
              "    <tr>\n",
              "      <th>...</th>\n",
              "      <td>...</td>\n",
              "      <td>...</td>\n",
              "      <td>...</td>\n",
              "      <td>...</td>\n",
              "      <td>...</td>\n",
              "      <td>...</td>\n",
              "      <td>...</td>\n",
              "      <td>...</td>\n",
              "      <td>...</td>\n",
              "      <td>...</td>\n",
              "      <td>...</td>\n",
              "    </tr>\n",
              "    <tr>\n",
              "      <th>37505</th>\n",
              "      <td>37505</td>\n",
              "      <td>Jason Wagner</td>\n",
              "      <td>M</td>\n",
              "      <td>9</td>\n",
              "      <td>Escola N</td>\n",
              "      <td>97</td>\n",
              "      <td>80</td>\n",
              "      <td>13</td>\n",
              "      <td>Publica</td>\n",
              "      <td>2739</td>\n",
              "      <td>1763916</td>\n",
              "    </tr>\n",
              "    <tr>\n",
              "      <th>37526</th>\n",
              "      <td>37526</td>\n",
              "      <td>Jon Santiago</td>\n",
              "      <td>M</td>\n",
              "      <td>7</td>\n",
              "      <td>Escola N</td>\n",
              "      <td>98</td>\n",
              "      <td>56</td>\n",
              "      <td>13</td>\n",
              "      <td>Publica</td>\n",
              "      <td>2739</td>\n",
              "      <td>1763916</td>\n",
              "    </tr>\n",
              "    <tr>\n",
              "      <th>37527</th>\n",
              "      <td>37527</td>\n",
              "      <td>Thomas Christensen</td>\n",
              "      <td>M</td>\n",
              "      <td>6</td>\n",
              "      <td>Escola N</td>\n",
              "      <td>98</td>\n",
              "      <td>60</td>\n",
              "      <td>13</td>\n",
              "      <td>Publica</td>\n",
              "      <td>2739</td>\n",
              "      <td>1763916</td>\n",
              "    </tr>\n",
              "    <tr>\n",
              "      <th>37531</th>\n",
              "      <td>37531</td>\n",
              "      <td>Bernard Reid</td>\n",
              "      <td>M</td>\n",
              "      <td>6</td>\n",
              "      <td>Escola N</td>\n",
              "      <td>94</td>\n",
              "      <td>80</td>\n",
              "      <td>13</td>\n",
              "      <td>Publica</td>\n",
              "      <td>2739</td>\n",
              "      <td>1763916</td>\n",
              "    </tr>\n",
              "    <tr>\n",
              "      <th>37532</th>\n",
              "      <td>37532</td>\n",
              "      <td>Dawn Sawyer</td>\n",
              "      <td>F</td>\n",
              "      <td>9</td>\n",
              "      <td>Escola N</td>\n",
              "      <td>91</td>\n",
              "      <td>66</td>\n",
              "      <td>13</td>\n",
              "      <td>Publica</td>\n",
              "      <td>2739</td>\n",
              "      <td>1763916</td>\n",
              "    </tr>\n",
              "  </tbody>\n",
              "</table>\n",
              "<p>6478 rows × 11 columns</p>\n",
              "</div>"
            ],
            "text/plain": [
              "       ID_Estudante      Nome_Estudante Genero  Serie Nome_Escola  \\\n",
              "1                 1          Paul Smith      M      9    Escola A   \n",
              "4                 4         William Ray      F      6    Escola A   \n",
              "5                 5       James Miranda      M      6    Escola A   \n",
              "7                 7         Mason Baker      F      9    Escola A   \n",
              "8                 8          Ethan Roth      M      7    Escola A   \n",
              "...             ...                 ...    ...    ...         ...   \n",
              "37505         37505        Jason Wagner      M      9    Escola N   \n",
              "37526         37526        Jon Santiago      M      7    Escola N   \n",
              "37527         37527  Thomas Christensen      M      6    Escola N   \n",
              "37531         37531        Bernard Reid      M      6    Escola N   \n",
              "37532         37532         Dawn Sawyer      F      9    Escola N   \n",
              "\n",
              "       Nota_Redacao  Nota_Matematica  ID_Escola Tipo_Escola  Numero_Alunos  \\\n",
              "1                94               61          0     Publica           2917   \n",
              "4                97               84          0     Publica           2917   \n",
              "5                94               94          0     Publica           2917   \n",
              "7                96               69          0     Publica           2917   \n",
              "8                95               87          0     Publica           2917   \n",
              "...             ...              ...        ...         ...            ...   \n",
              "37505            97               80         13     Publica           2739   \n",
              "37526            98               56         13     Publica           2739   \n",
              "37527            98               60         13     Publica           2739   \n",
              "37531            94               80         13     Publica           2739   \n",
              "37532            91               66         13     Publica           2739   \n",
              "\n",
              "       Orcamento_Anual  \n",
              "1              1910635  \n",
              "4              1910635  \n",
              "5              1910635  \n",
              "7              1910635  \n",
              "8              1910635  \n",
              "...                ...  \n",
              "37505          1763916  \n",
              "37526          1763916  \n",
              "37527          1763916  \n",
              "37531          1763916  \n",
              "37532          1763916  \n",
              "\n",
              "[6478 rows x 11 columns]"
            ]
          },
          "execution_count": 42,
          "metadata": {},
          "output_type": "execute_result"
        }
      ],
      "source": [
        "data[(estudantes['Nota_Redacao'] > 90) & (data['Tipo_Escola'] == \"Publica\")]"
      ]
    },
    {
      "cell_type": "markdown",
      "metadata": {
        "id": "pC_rW5E81fHh"
      },
      "source": [
        "Quantos alunos ficaram com nota superior a 90 em matemática? E qual o percentual?"
      ]
    },
    {
      "cell_type": "code",
      "execution_count": 43,
      "metadata": {
        "id": "OaZ5GJl91fHh"
      },
      "outputs": [
        {
          "name": "stdout",
          "output_type": "stream",
          "text": [
            "22.56 %\n"
          ]
        }
      ],
      "source": [
        "print(round(len(estudantes[estudantes['Nota_Matematica'] > 90])/len(estudantes) * 100,2), \"%\")"
      ]
    },
    {
      "cell_type": "markdown",
      "metadata": {
        "id": "fNAhdmaB1fHh"
      },
      "source": [
        "Quantos eram do sexo feminino?"
      ]
    },
    {
      "cell_type": "code",
      "execution_count": 44,
      "metadata": {
        "id": "0arZCYyz1fHh"
      },
      "outputs": [
        {
          "data": {
            "text/plain": [
              "4499"
            ]
          },
          "execution_count": 44,
          "metadata": {},
          "output_type": "execute_result"
        }
      ],
      "source": [
        "len(data[(estudantes['Nota_Matematica'] > 90) & (data['Genero'] == \"F\")])"
      ]
    },
    {
      "cell_type": "markdown",
      "metadata": {
        "id": "EWI2GEc-1fHi"
      },
      "source": [
        "Quantos alunos tiraram notas maior que 90 nas duas provas?"
      ]
    },
    {
      "cell_type": "code",
      "execution_count": 45,
      "metadata": {
        "id": "l4uLd0q61fHi"
      },
      "outputs": [
        {
          "data": {
            "text/plain": [
              "2323"
            ]
          },
          "execution_count": 45,
          "metadata": {},
          "output_type": "execute_result"
        }
      ],
      "source": [
        "len(data[(estudantes['Nota_Matematica'] > 90) & (data['Nota_Redacao'] > 90)])"
      ]
    },
    {
      "cell_type": "code",
      "execution_count": 46,
      "metadata": {},
      "outputs": [],
      "source": [
        "altoDesempenho = (data[(estudantes['Nota_Matematica'] > 90) & (data['Nota_Redacao'] > 90)])"
      ]
    },
    {
      "cell_type": "code",
      "execution_count": 47,
      "metadata": {},
      "outputs": [
        {
          "data": {
            "application/vnd.microsoft.datawrangler.viewer.v0+json": {
              "columns": [
                {
                  "name": "index",
                  "rawType": "int64",
                  "type": "integer"
                },
                {
                  "name": "ID_Estudante",
                  "rawType": "int64",
                  "type": "integer"
                },
                {
                  "name": "Nome_Estudante",
                  "rawType": "object",
                  "type": "string"
                },
                {
                  "name": "Genero",
                  "rawType": "object",
                  "type": "string"
                },
                {
                  "name": "Serie",
                  "rawType": "int64",
                  "type": "integer"
                },
                {
                  "name": "Nome_Escola",
                  "rawType": "object",
                  "type": "string"
                },
                {
                  "name": "Nota_Redacao",
                  "rawType": "int64",
                  "type": "integer"
                },
                {
                  "name": "Nota_Matematica",
                  "rawType": "int64",
                  "type": "integer"
                },
                {
                  "name": "ID_Escola",
                  "rawType": "int64",
                  "type": "integer"
                },
                {
                  "name": "Tipo_Escola",
                  "rawType": "object",
                  "type": "string"
                },
                {
                  "name": "Numero_Alunos",
                  "rawType": "int64",
                  "type": "integer"
                },
                {
                  "name": "Orcamento_Anual",
                  "rawType": "int64",
                  "type": "integer"
                }
              ],
              "conversionMethod": "pd.DataFrame",
              "ref": "8022cd74-5192-48a0-8991-9b06792d4d70",
              "rows": [
                [
                  "5",
                  "5",
                  "James Miranda",
                  "M",
                  "6",
                  "Escola A",
                  "94",
                  "94",
                  "0",
                  "Publica",
                  "2917",
                  "1910635"
                ],
                [
                  "30",
                  "30",
                  "Bobby Harris",
                  "M",
                  "6",
                  "Escola A",
                  "94",
                  "99",
                  "0",
                  "Publica",
                  "2917",
                  "1910635"
                ],
                [
                  "91",
                  "91",
                  "Mark Cherry",
                  "M",
                  "7",
                  "Escola A",
                  "96",
                  "98",
                  "0",
                  "Publica",
                  "2917",
                  "1910635"
                ],
                [
                  "133",
                  "133",
                  "Marisa Lowe",
                  "F",
                  "6",
                  "Escola A",
                  "95",
                  "95",
                  "0",
                  "Publica",
                  "2917",
                  "1910635"
                ],
                [
                  "181",
                  "181",
                  "Matthew Anderson",
                  "M",
                  "8",
                  "Escola A",
                  "92",
                  "99",
                  "0",
                  "Publica",
                  "2917",
                  "1910635"
                ],
                [
                  "185",
                  "185",
                  "Mary Fox",
                  "F",
                  "8",
                  "Escola A",
                  "94",
                  "92",
                  "0",
                  "Publica",
                  "2917",
                  "1910635"
                ],
                [
                  "206",
                  "206",
                  "Dorothy Burke",
                  "F",
                  "8",
                  "Escola A",
                  "91",
                  "92",
                  "0",
                  "Publica",
                  "2917",
                  "1910635"
                ],
                [
                  "250",
                  "250",
                  "Anthony Mercado",
                  "M",
                  "8",
                  "Escola A",
                  "95",
                  "97",
                  "0",
                  "Publica",
                  "2917",
                  "1910635"
                ],
                [
                  "264",
                  "264",
                  "Jamie Escobar",
                  "F",
                  "7",
                  "Escola A",
                  "91",
                  "91",
                  "0",
                  "Publica",
                  "2917",
                  "1910635"
                ],
                [
                  "299",
                  "299",
                  "Diana Evans",
                  "F",
                  "8",
                  "Escola A",
                  "96",
                  "94",
                  "0",
                  "Publica",
                  "2917",
                  "1910635"
                ],
                [
                  "305",
                  "305",
                  "Christine Patel",
                  "F",
                  "6",
                  "Escola A",
                  "99",
                  "94",
                  "0",
                  "Publica",
                  "2917",
                  "1910635"
                ],
                [
                  "306",
                  "306",
                  "David Lopez",
                  "M",
                  "6",
                  "Escola A",
                  "95",
                  "95",
                  "0",
                  "Publica",
                  "2917",
                  "1910635"
                ],
                [
                  "320",
                  "320",
                  "Todd Levy",
                  "M",
                  "9",
                  "Escola A",
                  "91",
                  "94",
                  "0",
                  "Publica",
                  "2917",
                  "1910635"
                ],
                [
                  "325",
                  "325",
                  "Heather Allen MD",
                  "F",
                  "8",
                  "Escola A",
                  "96",
                  "94",
                  "0",
                  "Publica",
                  "2917",
                  "1910635"
                ],
                [
                  "335",
                  "335",
                  "Amy Smith",
                  "F",
                  "9",
                  "Escola A",
                  "93",
                  "93",
                  "0",
                  "Publica",
                  "2917",
                  "1910635"
                ],
                [
                  "356",
                  "356",
                  "Christine Perry",
                  "F",
                  "8",
                  "Escola A",
                  "92",
                  "97",
                  "0",
                  "Publica",
                  "2917",
                  "1910635"
                ],
                [
                  "372",
                  "372",
                  "Robert Goodwin",
                  "M",
                  "9",
                  "Escola A",
                  "95",
                  "92",
                  "0",
                  "Publica",
                  "2917",
                  "1910635"
                ],
                [
                  "405",
                  "405",
                  "Dennis Padilla",
                  "M",
                  "8",
                  "Escola A",
                  "92",
                  "93",
                  "0",
                  "Publica",
                  "2917",
                  "1910635"
                ],
                [
                  "411",
                  "411",
                  "Stephanie Mercado",
                  "F",
                  "6",
                  "Escola A",
                  "93",
                  "98",
                  "0",
                  "Publica",
                  "2917",
                  "1910635"
                ],
                [
                  "461",
                  "461",
                  "Gina Contreras",
                  "F",
                  "6",
                  "Escola A",
                  "92",
                  "92",
                  "0",
                  "Publica",
                  "2917",
                  "1910635"
                ],
                [
                  "469",
                  "469",
                  "Joel Harper",
                  "M",
                  "6",
                  "Escola A",
                  "99",
                  "94",
                  "0",
                  "Publica",
                  "2917",
                  "1910635"
                ],
                [
                  "504",
                  "504",
                  "Victor Mcguire",
                  "M",
                  "8",
                  "Escola A",
                  "93",
                  "94",
                  "0",
                  "Publica",
                  "2917",
                  "1910635"
                ],
                [
                  "511",
                  "511",
                  "Julie Bush",
                  "F",
                  "6",
                  "Escola A",
                  "96",
                  "97",
                  "0",
                  "Publica",
                  "2917",
                  "1910635"
                ],
                [
                  "522",
                  "522",
                  "Michael Zamora",
                  "M",
                  "8",
                  "Escola A",
                  "96",
                  "94",
                  "0",
                  "Publica",
                  "2917",
                  "1910635"
                ],
                [
                  "525",
                  "525",
                  "Sarah Warren",
                  "F",
                  "8",
                  "Escola A",
                  "93",
                  "91",
                  "0",
                  "Publica",
                  "2917",
                  "1910635"
                ],
                [
                  "532",
                  "532",
                  "Samuel Schultz",
                  "M",
                  "7",
                  "Escola A",
                  "93",
                  "93",
                  "0",
                  "Publica",
                  "2917",
                  "1910635"
                ],
                [
                  "540",
                  "540",
                  "Jessica Hart",
                  "F",
                  "7",
                  "Escola A",
                  "95",
                  "98",
                  "0",
                  "Publica",
                  "2917",
                  "1910635"
                ],
                [
                  "549",
                  "549",
                  "Valerie Thompson",
                  "F",
                  "6",
                  "Escola A",
                  "97",
                  "94",
                  "0",
                  "Publica",
                  "2917",
                  "1910635"
                ],
                [
                  "564",
                  "564",
                  "Barbara Gonzalez",
                  "F",
                  "7",
                  "Escola A",
                  "94",
                  "92",
                  "0",
                  "Publica",
                  "2917",
                  "1910635"
                ],
                [
                  "574",
                  "574",
                  "Brandon Ramirez",
                  "M",
                  "7",
                  "Escola A",
                  "93",
                  "96",
                  "0",
                  "Publica",
                  "2917",
                  "1910635"
                ],
                [
                  "655",
                  "655",
                  "Dean Perez",
                  "M",
                  "8",
                  "Escola A",
                  "92",
                  "94",
                  "0",
                  "Publica",
                  "2917",
                  "1910635"
                ],
                [
                  "661",
                  "661",
                  "Meghan Holloway",
                  "F",
                  "8",
                  "Escola A",
                  "92",
                  "97",
                  "0",
                  "Publica",
                  "2917",
                  "1910635"
                ],
                [
                  "679",
                  "679",
                  "Pamela Hall",
                  "F",
                  "8",
                  "Escola A",
                  "95",
                  "98",
                  "0",
                  "Publica",
                  "2917",
                  "1910635"
                ],
                [
                  "695",
                  "695",
                  "Lee Evans",
                  "M",
                  "7",
                  "Escola A",
                  "93",
                  "95",
                  "0",
                  "Publica",
                  "2917",
                  "1910635"
                ],
                [
                  "699",
                  "699",
                  "Brianna Benson",
                  "F",
                  "8",
                  "Escola A",
                  "95",
                  "95",
                  "0",
                  "Publica",
                  "2917",
                  "1910635"
                ],
                [
                  "709",
                  "709",
                  "Matthew Oliver",
                  "M",
                  "6",
                  "Escola A",
                  "92",
                  "95",
                  "0",
                  "Publica",
                  "2917",
                  "1910635"
                ],
                [
                  "720",
                  "720",
                  "Jeanette Simmons",
                  "F",
                  "8",
                  "Escola A",
                  "96",
                  "96",
                  "0",
                  "Publica",
                  "2917",
                  "1910635"
                ],
                [
                  "733",
                  "733",
                  "Kyle Johnson",
                  "M",
                  "8",
                  "Escola A",
                  "93",
                  "92",
                  "0",
                  "Publica",
                  "2917",
                  "1910635"
                ],
                [
                  "734",
                  "734",
                  "Andrea Suarez",
                  "F",
                  "9",
                  "Escola A",
                  "92",
                  "93",
                  "0",
                  "Publica",
                  "2917",
                  "1910635"
                ],
                [
                  "741",
                  "741",
                  "Debra Maxwell",
                  "F",
                  "9",
                  "Escola A",
                  "96",
                  "94",
                  "0",
                  "Publica",
                  "2917",
                  "1910635"
                ],
                [
                  "743",
                  "743",
                  "Sonya Simmons",
                  "F",
                  "6",
                  "Escola A",
                  "92",
                  "96",
                  "0",
                  "Publica",
                  "2917",
                  "1910635"
                ],
                [
                  "746",
                  "746",
                  "Mary Monroe",
                  "F",
                  "7",
                  "Escola A",
                  "92",
                  "92",
                  "0",
                  "Publica",
                  "2917",
                  "1910635"
                ],
                [
                  "766",
                  "766",
                  "Michael Jenkins",
                  "M",
                  "8",
                  "Escola A",
                  "93",
                  "96",
                  "0",
                  "Publica",
                  "2917",
                  "1910635"
                ],
                [
                  "783",
                  "783",
                  "Robert Hutchinson",
                  "M",
                  "8",
                  "Escola A",
                  "96",
                  "98",
                  "0",
                  "Publica",
                  "2917",
                  "1910635"
                ],
                [
                  "829",
                  "829",
                  "Carol Anderson",
                  "F",
                  "6",
                  "Escola A",
                  "97",
                  "93",
                  "0",
                  "Publica",
                  "2917",
                  "1910635"
                ],
                [
                  "832",
                  "832",
                  "Paul Anderson",
                  "M",
                  "6",
                  "Escola A",
                  "96",
                  "96",
                  "0",
                  "Publica",
                  "2917",
                  "1910635"
                ],
                [
                  "838",
                  "838",
                  "Amy Henderson",
                  "F",
                  "7",
                  "Escola A",
                  "91",
                  "99",
                  "0",
                  "Publica",
                  "2917",
                  "1910635"
                ],
                [
                  "845",
                  "845",
                  "Jennifer Munoz",
                  "F",
                  "7",
                  "Escola A",
                  "98",
                  "94",
                  "0",
                  "Publica",
                  "2917",
                  "1910635"
                ],
                [
                  "962",
                  "962",
                  "Traci Ramirez",
                  "F",
                  "7",
                  "Escola A",
                  "95",
                  "99",
                  "0",
                  "Publica",
                  "2917",
                  "1910635"
                ],
                [
                  "1024",
                  "1024",
                  "Michael Crosby",
                  "M",
                  "8",
                  "Escola A",
                  "96",
                  "91",
                  "0",
                  "Publica",
                  "2917",
                  "1910635"
                ]
              ],
              "shape": {
                "columns": 11,
                "rows": 2323
              }
            },
            "text/html": [
              "<div>\n",
              "<style scoped>\n",
              "    .dataframe tbody tr th:only-of-type {\n",
              "        vertical-align: middle;\n",
              "    }\n",
              "\n",
              "    .dataframe tbody tr th {\n",
              "        vertical-align: top;\n",
              "    }\n",
              "\n",
              "    .dataframe thead th {\n",
              "        text-align: right;\n",
              "    }\n",
              "</style>\n",
              "<table border=\"1\" class=\"dataframe\">\n",
              "  <thead>\n",
              "    <tr style=\"text-align: right;\">\n",
              "      <th></th>\n",
              "      <th>ID_Estudante</th>\n",
              "      <th>Nome_Estudante</th>\n",
              "      <th>Genero</th>\n",
              "      <th>Serie</th>\n",
              "      <th>Nome_Escola</th>\n",
              "      <th>Nota_Redacao</th>\n",
              "      <th>Nota_Matematica</th>\n",
              "      <th>ID_Escola</th>\n",
              "      <th>Tipo_Escola</th>\n",
              "      <th>Numero_Alunos</th>\n",
              "      <th>Orcamento_Anual</th>\n",
              "    </tr>\n",
              "  </thead>\n",
              "  <tbody>\n",
              "    <tr>\n",
              "      <th>5</th>\n",
              "      <td>5</td>\n",
              "      <td>James Miranda</td>\n",
              "      <td>M</td>\n",
              "      <td>6</td>\n",
              "      <td>Escola A</td>\n",
              "      <td>94</td>\n",
              "      <td>94</td>\n",
              "      <td>0</td>\n",
              "      <td>Publica</td>\n",
              "      <td>2917</td>\n",
              "      <td>1910635</td>\n",
              "    </tr>\n",
              "    <tr>\n",
              "      <th>30</th>\n",
              "      <td>30</td>\n",
              "      <td>Bobby Harris</td>\n",
              "      <td>M</td>\n",
              "      <td>6</td>\n",
              "      <td>Escola A</td>\n",
              "      <td>94</td>\n",
              "      <td>99</td>\n",
              "      <td>0</td>\n",
              "      <td>Publica</td>\n",
              "      <td>2917</td>\n",
              "      <td>1910635</td>\n",
              "    </tr>\n",
              "    <tr>\n",
              "      <th>91</th>\n",
              "      <td>91</td>\n",
              "      <td>Mark Cherry</td>\n",
              "      <td>M</td>\n",
              "      <td>7</td>\n",
              "      <td>Escola A</td>\n",
              "      <td>96</td>\n",
              "      <td>98</td>\n",
              "      <td>0</td>\n",
              "      <td>Publica</td>\n",
              "      <td>2917</td>\n",
              "      <td>1910635</td>\n",
              "    </tr>\n",
              "    <tr>\n",
              "      <th>133</th>\n",
              "      <td>133</td>\n",
              "      <td>Marisa Lowe</td>\n",
              "      <td>F</td>\n",
              "      <td>6</td>\n",
              "      <td>Escola A</td>\n",
              "      <td>95</td>\n",
              "      <td>95</td>\n",
              "      <td>0</td>\n",
              "      <td>Publica</td>\n",
              "      <td>2917</td>\n",
              "      <td>1910635</td>\n",
              "    </tr>\n",
              "    <tr>\n",
              "      <th>181</th>\n",
              "      <td>181</td>\n",
              "      <td>Matthew Anderson</td>\n",
              "      <td>M</td>\n",
              "      <td>8</td>\n",
              "      <td>Escola A</td>\n",
              "      <td>92</td>\n",
              "      <td>99</td>\n",
              "      <td>0</td>\n",
              "      <td>Publica</td>\n",
              "      <td>2917</td>\n",
              "      <td>1910635</td>\n",
              "    </tr>\n",
              "    <tr>\n",
              "      <th>...</th>\n",
              "      <td>...</td>\n",
              "      <td>...</td>\n",
              "      <td>...</td>\n",
              "      <td>...</td>\n",
              "      <td>...</td>\n",
              "      <td>...</td>\n",
              "      <td>...</td>\n",
              "      <td>...</td>\n",
              "      <td>...</td>\n",
              "      <td>...</td>\n",
              "      <td>...</td>\n",
              "    </tr>\n",
              "    <tr>\n",
              "      <th>39091</th>\n",
              "      <td>39091</td>\n",
              "      <td>Jeremy Edwards</td>\n",
              "      <td>M</td>\n",
              "      <td>7</td>\n",
              "      <td>Escola O</td>\n",
              "      <td>91</td>\n",
              "      <td>98</td>\n",
              "      <td>14</td>\n",
              "      <td>Particular</td>\n",
              "      <td>1635</td>\n",
              "      <td>1043130</td>\n",
              "    </tr>\n",
              "    <tr>\n",
              "      <th>39121</th>\n",
              "      <td>39121</td>\n",
              "      <td>Stephanie Wilson</td>\n",
              "      <td>F</td>\n",
              "      <td>7</td>\n",
              "      <td>Escola O</td>\n",
              "      <td>94</td>\n",
              "      <td>94</td>\n",
              "      <td>14</td>\n",
              "      <td>Particular</td>\n",
              "      <td>1635</td>\n",
              "      <td>1043130</td>\n",
              "    </tr>\n",
              "    <tr>\n",
              "      <th>39127</th>\n",
              "      <td>39127</td>\n",
              "      <td>Robert Wood</td>\n",
              "      <td>M</td>\n",
              "      <td>6</td>\n",
              "      <td>Escola O</td>\n",
              "      <td>97</td>\n",
              "      <td>98</td>\n",
              "      <td>14</td>\n",
              "      <td>Particular</td>\n",
              "      <td>1635</td>\n",
              "      <td>1043130</td>\n",
              "    </tr>\n",
              "    <tr>\n",
              "      <th>39138</th>\n",
              "      <td>39138</td>\n",
              "      <td>Monica Hampton</td>\n",
              "      <td>F</td>\n",
              "      <td>6</td>\n",
              "      <td>Escola O</td>\n",
              "      <td>94</td>\n",
              "      <td>94</td>\n",
              "      <td>14</td>\n",
              "      <td>Particular</td>\n",
              "      <td>1635</td>\n",
              "      <td>1043130</td>\n",
              "    </tr>\n",
              "    <tr>\n",
              "      <th>39155</th>\n",
              "      <td>39155</td>\n",
              "      <td>John Brooks</td>\n",
              "      <td>M</td>\n",
              "      <td>7</td>\n",
              "      <td>Escola O</td>\n",
              "      <td>92</td>\n",
              "      <td>98</td>\n",
              "      <td>14</td>\n",
              "      <td>Particular</td>\n",
              "      <td>1635</td>\n",
              "      <td>1043130</td>\n",
              "    </tr>\n",
              "  </tbody>\n",
              "</table>\n",
              "<p>2323 rows × 11 columns</p>\n",
              "</div>"
            ],
            "text/plain": [
              "       ID_Estudante    Nome_Estudante Genero  Serie Nome_Escola  Nota_Redacao  \\\n",
              "5                 5     James Miranda      M      6    Escola A            94   \n",
              "30               30      Bobby Harris      M      6    Escola A            94   \n",
              "91               91       Mark Cherry      M      7    Escola A            96   \n",
              "133             133       Marisa Lowe      F      6    Escola A            95   \n",
              "181             181  Matthew Anderson      M      8    Escola A            92   \n",
              "...             ...               ...    ...    ...         ...           ...   \n",
              "39091         39091    Jeremy Edwards      M      7    Escola O            91   \n",
              "39121         39121  Stephanie Wilson      F      7    Escola O            94   \n",
              "39127         39127       Robert Wood      M      6    Escola O            97   \n",
              "39138         39138    Monica Hampton      F      6    Escola O            94   \n",
              "39155         39155       John Brooks      M      7    Escola O            92   \n",
              "\n",
              "       Nota_Matematica  ID_Escola Tipo_Escola  Numero_Alunos  Orcamento_Anual  \n",
              "5                   94          0     Publica           2917          1910635  \n",
              "30                  99          0     Publica           2917          1910635  \n",
              "91                  98          0     Publica           2917          1910635  \n",
              "133                 95          0     Publica           2917          1910635  \n",
              "181                 99          0     Publica           2917          1910635  \n",
              "...                ...        ...         ...            ...              ...  \n",
              "39091               98         14  Particular           1635          1043130  \n",
              "39121               94         14  Particular           1635          1043130  \n",
              "39127               98         14  Particular           1635          1043130  \n",
              "39138               94         14  Particular           1635          1043130  \n",
              "39155               98         14  Particular           1635          1043130  \n",
              "\n",
              "[2323 rows x 11 columns]"
            ]
          },
          "execution_count": 47,
          "metadata": {},
          "output_type": "execute_result"
        }
      ],
      "source": [
        "altoDesempenho"
      ]
    },
    {
      "cell_type": "markdown",
      "metadata": {
        "id": "T69MTDGi1fHi"
      },
      "source": [
        "Como ficou a distribuição dos alunos de alto desempenho pela série?"
      ]
    },
    {
      "cell_type": "code",
      "execution_count": null,
      "metadata": {
        "id": "WlrkY1f71fHi"
      },
      "outputs": [
        {
          "data": {
            "text/plain": [
              "Serie\n",
              "6    663\n",
              "8    604\n",
              "7    599\n",
              "9    457\n",
              "Name: count, dtype: int64"
            ]
          },
          "execution_count": 48,
          "metadata": {},
          "output_type": "execute_result"
        }
      ],
      "source": [
        "altoDesempenho['Serie'].value_counts()\n",
        "\n",
        "#quantas crianças por serie tiraram a nota maior que 90 = group by, order by, count"
      ]
    },
    {
      "cell_type": "code",
      "execution_count": 51,
      "metadata": {},
      "outputs": [
        {
          "data": {
            "text/plain": [
              "Serie\n",
              "6    663\n",
              "7    599\n",
              "8    604\n",
              "9    457\n",
              "Name: Genero, dtype: int64"
            ]
          },
          "execution_count": 51,
          "metadata": {},
          "output_type": "execute_result"
        }
      ],
      "source": [
        "altoDesempenho.groupby('Serie')['Genero'].count()"
      ]
    },
    {
      "cell_type": "markdown",
      "metadata": {
        "id": "s9UPJEK-1fHi"
      },
      "source": [
        "Qual o total por escolas?"
      ]
    },
    {
      "cell_type": "code",
      "execution_count": 52,
      "metadata": {
        "id": "6YAy2Ci_1fHi"
      },
      "outputs": [
        {
          "data": {
            "text/plain": [
              "Nome_Escola\n",
              "Escola D    252\n",
              "Escola H    252\n",
              "Escola M    239\n",
              "Escola L    183\n",
              "Escola F    172\n",
              "Escola G    155\n",
              "Escola K    153\n",
              "Escola A    143\n",
              "Escola B    142\n",
              "Escola O    129\n",
              "Escola C    129\n",
              "Escola E    126\n",
              "Escola N    110\n",
              "Escola J     96\n",
              "Escola I     42\n",
              "Name: count, dtype: int64"
            ]
          },
          "execution_count": 52,
          "metadata": {},
          "output_type": "execute_result"
        }
      ],
      "source": [
        "altoDesempenho['Nome_Escola'].value_counts()"
      ]
    },
    {
      "cell_type": "markdown",
      "metadata": {
        "id": "7bMhMSf41fHi"
      },
      "source": [
        "### Tarefa:\n",
        "\n",
        "Quais escolas demonstraram maior eficiência?\n",
        "\n",
        "Instruções:\n",
        "\n",
        "1. Antes de analisar os dados, explique o que significa \"eficiência\" no contexto de escolas. Considere aspectos como o uso de recursos, desempenho acadêmico, custo-benefício, entre outros critérios relevantes.\n",
        "   \n",
        "2. Utilize os dados fornecidos neste documento para identificar quais escolas se destacam em termos de eficiência, de acordo com a definição estabelecida.\n",
        "\n",
        "3. Quais diferentes formas de análise, novos resultados ou novas métricas podem ajudar a avaliar melhor a eficiência das escolas?"
      ]
    },
    {
      "cell_type": "markdown",
      "metadata": {},
      "source": [
        "1. Eficiência no contexto das escolas com que estamos lidando, é referente ao desempenho dos alunos nas olimpiadasm de redação e matemática. Nesse caso, as Escolas D e H foram as mais eficientes, onde houve um quantitativo de alunos tirando com notas maior que 90 em mabas as provas;\n",
        "\n",
        "2. Como citado anteriormente, as escolas que tiveram mais eficiência foram as escolas D e H;\n",
        "\n",
        "3. Analisando as informações fornecidas, podemos especificar o desempenho das escolas baseado em gênero, tipo de prova, turmas (faxai-etária de idade) e tipo de escola (pública ou privada). Além destes indicadores, podemos analisar as escolas do ponto de vista financeiro, tendo em vista seus orçamentos anuais (a que consegue gerenciar os recursos de maneira mais ecomômica, certamente tem um indicador mais acentuado nesta área);"
      ]
    }
  ],
  "metadata": {
    "colab": {
      "provenance": []
    },
    "kernelspec": {
      "display_name": ".venv",
      "language": "python",
      "name": "python3"
    },
    "language_info": {
      "codemirror_mode": {
        "name": "ipython",
        "version": 3
      },
      "file_extension": ".py",
      "mimetype": "text/x-python",
      "name": "python",
      "nbconvert_exporter": "python",
      "pygments_lexer": "ipython3",
      "version": "3.12.9"
    }
  },
  "nbformat": 4,
  "nbformat_minor": 0
}
